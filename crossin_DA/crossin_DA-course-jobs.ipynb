{
 "cells": [
  {
   "cell_type": "code",
   "execution_count": 18,
   "metadata": {},
   "outputs": [
    {
     "output_type": "execute_result",
     "data": {
      "text/plain": "                                               title                company company_size      industry type       salary company_type     source experience education  salary2\n0                                            招聘数据分析师           北京越铖国际科技有限公司       20-99人    人事/行政/高级管理   全职   8000-12000           民营         斗米         不限        不限  10000.0\n1                                              数据分析师      北京新东方教育科技（集团）有限公司          NaN  计算机/互联网/信息技术   全职  12000-20000           民营  OFweek人才网         不限        不限  16000.0\n2                                          数据分析师(新浪)          新浪网技术(中国)有限公司   2000-5000人         数据分析师   全职  20000-25000     外商独资/办事处         猎聘       3-5年        本科  22500.0\n3                                              数据分析师         北京美科思远环境科技有限公司       20-99人      环保/环境科学类   全职  12000-20000          股份制      北极星招聘         不限        硕士  16000.0\n4  助理、临床样本库采样人员、软件工程师、数据库管理工程师、机械设计与结构工程师、Android...  中国人民解放军总医院（北京市解放军医学院）          NaN            医疗   全职           面议         公立医院    康强医疗人才网         不限        不限      NaN",
      "text/html": "<div>\n<style scoped>\n    .dataframe tbody tr th:only-of-type {\n        vertical-align: middle;\n    }\n\n    .dataframe tbody tr th {\n        vertical-align: top;\n    }\n\n    .dataframe thead th {\n        text-align: right;\n    }\n</style>\n<table border=\"1\" class=\"dataframe\">\n  <thead>\n    <tr style=\"text-align: right;\">\n      <th></th>\n      <th>title</th>\n      <th>company</th>\n      <th>company_size</th>\n      <th>industry</th>\n      <th>type</th>\n      <th>salary</th>\n      <th>company_type</th>\n      <th>source</th>\n      <th>experience</th>\n      <th>education</th>\n      <th>salary2</th>\n    </tr>\n  </thead>\n  <tbody>\n    <tr>\n      <th>0</th>\n      <td>招聘数据分析师</td>\n      <td>北京越铖国际科技有限公司</td>\n      <td>20-99人</td>\n      <td>人事/行政/高级管理</td>\n      <td>全职</td>\n      <td>8000-12000</td>\n      <td>民营</td>\n      <td>斗米</td>\n      <td>不限</td>\n      <td>不限</td>\n      <td>10000.0</td>\n    </tr>\n    <tr>\n      <th>1</th>\n      <td>数据分析师</td>\n      <td>北京新东方教育科技（集团）有限公司</td>\n      <td>NaN</td>\n      <td>计算机/互联网/信息技术</td>\n      <td>全职</td>\n      <td>12000-20000</td>\n      <td>民营</td>\n      <td>OFweek人才网</td>\n      <td>不限</td>\n      <td>不限</td>\n      <td>16000.0</td>\n    </tr>\n    <tr>\n      <th>2</th>\n      <td>数据分析师(新浪)</td>\n      <td>新浪网技术(中国)有限公司</td>\n      <td>2000-5000人</td>\n      <td>数据分析师</td>\n      <td>全职</td>\n      <td>20000-25000</td>\n      <td>外商独资/办事处</td>\n      <td>猎聘</td>\n      <td>3-5年</td>\n      <td>本科</td>\n      <td>22500.0</td>\n    </tr>\n    <tr>\n      <th>3</th>\n      <td>数据分析师</td>\n      <td>北京美科思远环境科技有限公司</td>\n      <td>20-99人</td>\n      <td>环保/环境科学类</td>\n      <td>全职</td>\n      <td>12000-20000</td>\n      <td>股份制</td>\n      <td>北极星招聘</td>\n      <td>不限</td>\n      <td>硕士</td>\n      <td>16000.0</td>\n    </tr>\n    <tr>\n      <th>4</th>\n      <td>助理、临床样本库采样人员、软件工程师、数据库管理工程师、机械设计与结构工程师、Android...</td>\n      <td>中国人民解放军总医院（北京市解放军医学院）</td>\n      <td>NaN</td>\n      <td>医疗</td>\n      <td>全职</td>\n      <td>面议</td>\n      <td>公立医院</td>\n      <td>康强医疗人才网</td>\n      <td>不限</td>\n      <td>不限</td>\n      <td>NaN</td>\n    </tr>\n  </tbody>\n</table>\n</div>"
     },
     "metadata": {},
     "execution_count": 18
    }
   ],
   "source": [
    "import pandas as pd\n",
    "\n",
    "\n",
    "job_csv = pd.read_csv('./assets/jobs.csv')\n",
    "\n",
    "df = job_csv.drop_duplicates()\n",
    "df.head()"
   ]
  },
  {
   "cell_type": "code",
   "execution_count": 19,
   "metadata": {},
   "outputs": [
    {
     "output_type": "stream",
     "name": "stdout",
     "text": "<class 'pandas.core.frame.DataFrame'>\nInt64Index: 650 entries, 0 to 649\nData columns (total 11 columns):\n #   Column        Non-Null Count  Dtype  \n---  ------        --------------  -----  \n 0   title         647 non-null    object \n 1   company       650 non-null    object \n 2   company_size  588 non-null    object \n 3   industry      642 non-null    object \n 4   type          650 non-null    object \n 5   salary        650 non-null    object \n 6   company_type  650 non-null    object \n 7   source        647 non-null    object \n 8   experience    650 non-null    object \n 9   education     650 non-null    object \n 10  salary2       546 non-null    float64\ndtypes: float64(1), object(10)\nmemory usage: 60.9+ KB\nNone\n            salary2\ncount    546.000000\nmean   14409.894689\nstd     5933.391289\nmin     2500.000000\n25%    10000.000000\n50%    16000.000000\n75%    16000.000000\nmax    25000.000000\n"
    }
   ],
   "source": [
    "print(df.info())\n",
    "print(df.describe())"
   ]
  },
  {
   "cell_type": "code",
   "execution_count": 20,
   "metadata": {},
   "outputs": [
    {
     "output_type": "execute_result",
     "data": {
      "text/plain": "猎聘           580\nOFweek人才网     33\n斗米            17\n百姓网            5\n北极星招聘          5\n普工招聘网          4\n工厂直聘网          2\n康强医疗人才网        1\nName: source, dtype: int64"
     },
     "metadata": {},
     "execution_count": 20
    }
   ],
   "source": [
    "# 统计数据表中的招聘岗位都来自于哪些网站（阅读参考文章③④）\n",
    "df['source'].value_counts()"
   ]
  },
  {
   "cell_type": "code",
   "execution_count": 30,
   "metadata": {},
   "outputs": [
    {
     "output_type": "execute_result",
     "data": {
      "text/plain": "不限    18\nName: experience, dtype: int64"
     },
     "metadata": {},
     "execution_count": 30
    }
   ],
   "source": [
    "#统计数据分析师这个岗位，对于工作经验的要求（阅读参考文章③④）\n",
    "df[df.title == '数据分析师']['experience'].value_counts(dropna=False)"
   ]
  },
  {
   "cell_type": "code",
   "execution_count": 29,
   "metadata": {},
   "outputs": [
    {
     "output_type": "execute_result",
     "data": {
      "text/plain": "不限    13\n本科     3\n硕士     2\nName: education, dtype: int64"
     },
     "metadata": {},
     "execution_count": 29
    }
   ],
   "source": [
    "#统计该地区数据分析岗位对于教育背景的要求（阅读参考文章③④）\n",
    "df[df.title == '数据分析师']['education'].value_counts()"
   ]
  },
  {
   "cell_type": "code",
   "execution_count": 31,
   "metadata": {},
   "outputs": [
    {
     "output_type": "execute_result",
     "data": {
      "text/plain": "民营          458\n上市公司         62\n外商独资/办事处     45\n中外合资/合作      42\n国企           34\n事业单位          4\n个人企业          2\n股份制           1\n公立医院          1\n其它            1\nName: company_type, dtype: int64"
     },
     "metadata": {},
     "execution_count": 31
    }
   ],
   "source": [
    "#请统计出不同类型公司的职位数量（阅读参考文章③④）\n",
    "df['company_type'].value_counts(dropna=False)"
   ]
  },
  {
   "cell_type": "code",
   "execution_count": 32,
   "metadata": {},
   "outputs": [
    {
     "output_type": "execute_result",
     "data": {
      "text/plain": "14409.894688644688"
     },
     "metadata": {},
     "execution_count": 32
    }
   ],
   "source": [
    "#所有职位的平均工资是多少\n",
    "df['salary2'].mean()"
   ]
  },
  {
   "cell_type": "code",
   "execution_count": 56,
   "metadata": {},
   "outputs": [
    {
     "output_type": "stream",
     "name": "stdout",
     "text": "company\nxx公司                         25000.0\n中建材信息技术股份有限公司                25000.0\n北京某互联网公司                     25000.0\n北京正东金控信息服务有限公司               25000.0\n北京永利范思科技有限公司                 25000.0\n中网数据(北京)股份有限公司               25000.0\n清控紫荆(北京)教育科技股份有限公司           25000.0\n云账户技术(天津)有限公司                25000.0\n以尧企业发展（上海）有限公司               25000.0\n依托数据分析的，聚合形成个人信用码的新科技平台公司    25000.0\nName: salary2, dtype: float64\n"
    }
   ],
   "source": [
    "#请统计平均薪资（即 salary2）排在前 10 位的招聘公司及金额（阅读参考文章⑤⑥）\n",
    "df_salary_mean = df['salary2'].groupby(df['company']).mean().sort_values(ascending=False)[0:10]\n",
    "print(df_salary_mean)"
   ]
  },
  {
   "cell_type": "code",
   "execution_count": 57,
   "metadata": {},
   "outputs": [
    {
     "output_type": "stream",
     "name": "stdout",
     "text": "company\n深圳索信达数据技术有限公司          7\n百度在线网络技术(北京)有限公司       7\n车好多旧机动车经纪(北京)有限公司      7\n海南小易到家电子商务有限公司上海分公司    6\n贝壳找房(北京)科技有限公司         5\n苏州皇亭电子有限公司             5\n北京友信科技有限公司             4\n北京字节跳动网络技术有限公司         4\n北京中油瑞飞信息技术有限责任公司       4\n北京百分点信息科技有限公司          4\nName: title, dtype: int64\n"
    }
   ],
   "source": [
    "#统计发布职位数排在前 10 位的招聘公司及其职位数量（阅读参考文章⑤⑥）\n",
    "df_count = df['title'].groupby(df['company']).count().sort_values(ascending=False)[0:10]\n",
    "print(df_count)"
   ]
  },
  {
   "cell_type": "code",
   "execution_count": 58,
   "metadata": {},
   "outputs": [
    {
     "output_type": "stream",
     "name": "stdout",
     "text": "company_type\n外商独资/办事处    17468.750000\n股份制         16000.000000\n民营          14378.595718\n上市公司        14367.346939\n事业单位        14166.666667\n中外合资/合作     13357.142857\n个人企业        13250.000000\n国企          12846.153846\n其它          10000.000000\n公立医院                 NaN\nName: salary2, dtype: float64\n"
    }
   ],
   "source": [
    "#请统计出平均工资排在前 10 位的公司类型及平均工资金额（阅读参考文章⑤⑥）\n",
    "df_type_mean = df['salary2'].groupby(df['company_type']).mean().sort_values(ascending=False)\n",
    "print(df_type_mean)"
   ]
  }
 ],
 "metadata": {
  "language_info": {
   "codemirror_mode": {
    "name": "ipython",
    "version": 3
   },
   "file_extension": ".py",
   "mimetype": "text/x-python",
   "name": "python",
   "nbconvert_exporter": "python",
   "pygments_lexer": "ipython3",
   "version": "3.7.6-final"
  },
  "orig_nbformat": 2,
  "kernelspec": {
   "name": "python3",
   "display_name": "Python 3"
  }
 },
 "nbformat": 4,
 "nbformat_minor": 2
}