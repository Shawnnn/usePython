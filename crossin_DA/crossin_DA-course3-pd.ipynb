{
 "nbformat": 4,
 "nbformat_minor": 2,
 "metadata": {
  "language_info": {
   "name": "python",
   "codemirror_mode": {
    "name": "ipython",
    "version": 3
   },
   "version": "3.7.4-final"
  },
  "orig_nbformat": 2,
  "file_extension": ".py",
  "mimetype": "text/x-python",
  "name": "python",
  "npconvert_exporter": "python",
  "pygments_lexer": "ipython3",
  "version": 3,
  "kernelspec": {
   "name": "python3",
   "display_name": "Python 3"
  }
 },
 "cells": [
  {
   "cell_type": "code",
   "execution_count": 19,
   "metadata": {},
   "outputs": [
    {
     "output_type": "execute_result",
     "data": {
      "text/plain": "a    4\nb    3\nc    5\nd    3\ne    6\ndtype: int32"
     },
     "metadata": {},
     "execution_count": 19
    }
   ],
   "source": [
    "import numpy as np \n",
    "import pandas as pd \n",
    "\n",
    "data1 = np.random.randint(3, 10, size=5)\n",
    "s1 = pd.Series(data1, index =['a', 'b', 'c', 'd', 'e'])\n",
    "s1\n",
    ""
   ]
  },
  {
   "cell_type": "code",
   "execution_count": 24,
   "metadata": {},
   "outputs": [
    {
     "output_type": "stream",
     "name": "stdout",
     "text": "by_loc:\n c    5\nd    3\ne    6\ndtype: int32\nby_index:\n c    5\nd    3\ne    6\ndtype: int32\n"
    }
   ],
   "source": [
    "by_loc = s1[2:]\n",
    "print(\"by_loc:\\n\", by_loc)\n",
    "\n",
    "by_index = s1['c':'e']\n",
    "print(\"by_index:\\n\", by_index)"
   ]
  },
  {
   "cell_type": "code",
   "execution_count": 25,
   "metadata": {},
   "outputs": [
    {
     "output_type": "execute_result",
     "data": {
      "text/plain": "   year  price\n0  2017     10\n1  2018     20\n2  2019     30",
      "text/html": "<div>\n<style scoped>\n    .dataframe tbody tr th:only-of-type {\n        vertical-align: middle;\n    }\n\n    .dataframe tbody tr th {\n        vertical-align: top;\n    }\n\n    .dataframe thead th {\n        text-align: right;\n    }\n</style>\n<table border=\"1\" class=\"dataframe\">\n  <thead>\n    <tr style=\"text-align: right;\">\n      <th></th>\n      <th>year</th>\n      <th>price</th>\n    </tr>\n  </thead>\n  <tbody>\n    <tr>\n      <th>0</th>\n      <td>2017</td>\n      <td>10</td>\n    </tr>\n    <tr>\n      <th>1</th>\n      <td>2018</td>\n      <td>20</td>\n    </tr>\n    <tr>\n      <th>2</th>\n      <td>2019</td>\n      <td>30</td>\n    </tr>\n  </tbody>\n</table>\n</div>"
     },
     "metadata": {},
     "execution_count": 25
    }
   ],
   "source": [
    "arr = {\n",
    "    'year' : {'0': 2017, '1': 2018, '2':2019},\n",
    "    'price' : {'0': 10, '1':20, \"2\": 30 }\n",
    "}\n",
    "df = pd.DataFrame(arr)\n",
    "df"
   ]
  },
  {
   "cell_type": "code",
   "execution_count": 26,
   "metadata": {},
   "outputs": [
    {
     "output_type": "execute_result",
     "data": {
      "text/plain": "   one  two  three\na    7    5      6\nc   13   13      6\ne   12   13     10\nf   13   13      6\nh   12    8      7",
      "text/html": "<div>\n<style scoped>\n    .dataframe tbody tr th:only-of-type {\n        vertical-align: middle;\n    }\n\n    .dataframe tbody tr th {\n        vertical-align: top;\n    }\n\n    .dataframe thead th {\n        text-align: right;\n    }\n</style>\n<table border=\"1\" class=\"dataframe\">\n  <thead>\n    <tr style=\"text-align: right;\">\n      <th></th>\n      <th>one</th>\n      <th>two</th>\n      <th>three</th>\n    </tr>\n  </thead>\n  <tbody>\n    <tr>\n      <th>a</th>\n      <td>7</td>\n      <td>5</td>\n      <td>6</td>\n    </tr>\n    <tr>\n      <th>c</th>\n      <td>13</td>\n      <td>13</td>\n      <td>6</td>\n    </tr>\n    <tr>\n      <th>e</th>\n      <td>12</td>\n      <td>13</td>\n      <td>10</td>\n    </tr>\n    <tr>\n      <th>f</th>\n      <td>13</td>\n      <td>13</td>\n      <td>6</td>\n    </tr>\n    <tr>\n      <th>h</th>\n      <td>12</td>\n      <td>8</td>\n      <td>7</td>\n    </tr>\n  </tbody>\n</table>\n</div>"
     },
     "metadata": {},
     "execution_count": 26
    }
   ],
   "source": [
    "data2 = np.random.randint(5, 15, size=(5,3))\n",
    "df_test = pd.DataFrame(data2, index = ['a', 'c', 'e', 'f', 'h'], columns = ['one', 'two', 'three'])\n",
    "df_test"
   ]
  },
  {
   "cell_type": "code",
   "execution_count": 30,
   "metadata": {},
   "outputs": [
    {
     "output_type": "execute_result",
     "data": {
      "text/plain": "    one    two  three  four\na   NaN -100.0    6.0  test\nb   NaN    NaN    NaN   NaN\nc  13.0  -99.0  -99.0  test\nd   NaN    NaN    NaN   NaN\ne  12.0   13.0   10.0  test\nf  13.0   13.0    6.0  test\ng   NaN    NaN    NaN   NaN\nh  12.0    8.0    7.0  test",
      "text/html": "<div>\n<style scoped>\n    .dataframe tbody tr th:only-of-type {\n        vertical-align: middle;\n    }\n\n    .dataframe tbody tr th {\n        vertical-align: top;\n    }\n\n    .dataframe thead th {\n        text-align: right;\n    }\n</style>\n<table border=\"1\" class=\"dataframe\">\n  <thead>\n    <tr style=\"text-align: right;\">\n      <th></th>\n      <th>one</th>\n      <th>two</th>\n      <th>three</th>\n      <th>four</th>\n    </tr>\n  </thead>\n  <tbody>\n    <tr>\n      <th>a</th>\n      <td>NaN</td>\n      <td>-100.0</td>\n      <td>6.0</td>\n      <td>test</td>\n    </tr>\n    <tr>\n      <th>b</th>\n      <td>NaN</td>\n      <td>NaN</td>\n      <td>NaN</td>\n      <td>NaN</td>\n    </tr>\n    <tr>\n      <th>c</th>\n      <td>13.0</td>\n      <td>-99.0</td>\n      <td>-99.0</td>\n      <td>test</td>\n    </tr>\n    <tr>\n      <th>d</th>\n      <td>NaN</td>\n      <td>NaN</td>\n      <td>NaN</td>\n      <td>NaN</td>\n    </tr>\n    <tr>\n      <th>e</th>\n      <td>12.0</td>\n      <td>13.0</td>\n      <td>10.0</td>\n      <td>test</td>\n    </tr>\n    <tr>\n      <th>f</th>\n      <td>13.0</td>\n      <td>13.0</td>\n      <td>6.0</td>\n      <td>test</td>\n    </tr>\n    <tr>\n      <th>g</th>\n      <td>NaN</td>\n      <td>NaN</td>\n      <td>NaN</td>\n      <td>NaN</td>\n    </tr>\n    <tr>\n      <th>h</th>\n      <td>12.0</td>\n      <td>8.0</td>\n      <td>7.0</td>\n      <td>test</td>\n    </tr>\n  </tbody>\n</table>\n</div>"
     },
     "metadata": {},
     "execution_count": 30
    }
   ],
   "source": [
    "df_test.loc[\"a\", 'one'] = None\n",
    "df_test.loc['c', 'two'] = -99\n",
    "df_test.loc['c', 'three'] = -99\n",
    "df_test.loc['a', 'two'] = -100\n",
    "df_temp = df_test.reindex(columns=['one', 'two', 'three', 'four'], fill_value = \"test\")\n",
    "df_change = df_temp.reindex(['a','b', 'c', 'd', 'e', 'f', 'g', 'h'])\n",
    "df_change"
   ]
  },
  {
   "cell_type": "code",
   "execution_count": 31,
   "metadata": {},
   "outputs": [
    {
     "output_type": "execute_result",
     "data": {
      "text/plain": "    one   two  three  four\nc  13.0 -99.0  -99.0  test\ne  12.0  13.0   10.0  test\nf  13.0  13.0    6.0  test\nh  12.0   8.0    7.0  test",
      "text/html": "<div>\n<style scoped>\n    .dataframe tbody tr th:only-of-type {\n        vertical-align: middle;\n    }\n\n    .dataframe tbody tr th {\n        vertical-align: top;\n    }\n\n    .dataframe thead th {\n        text-align: right;\n    }\n</style>\n<table border=\"1\" class=\"dataframe\">\n  <thead>\n    <tr style=\"text-align: right;\">\n      <th></th>\n      <th>one</th>\n      <th>two</th>\n      <th>three</th>\n      <th>four</th>\n    </tr>\n  </thead>\n  <tbody>\n    <tr>\n      <th>c</th>\n      <td>13.0</td>\n      <td>-99.0</td>\n      <td>-99.0</td>\n      <td>test</td>\n    </tr>\n    <tr>\n      <th>e</th>\n      <td>12.0</td>\n      <td>13.0</td>\n      <td>10.0</td>\n      <td>test</td>\n    </tr>\n    <tr>\n      <th>f</th>\n      <td>13.0</td>\n      <td>13.0</td>\n      <td>6.0</td>\n      <td>test</td>\n    </tr>\n    <tr>\n      <th>h</th>\n      <td>12.0</td>\n      <td>8.0</td>\n      <td>7.0</td>\n      <td>test</td>\n    </tr>\n  </tbody>\n</table>\n</div>"
     },
     "metadata": {},
     "execution_count": 31
    }
   ],
   "source": [
    "df_change.dropna()"
   ]
  },
  {
   "cell_type": "code",
   "execution_count": 32,
   "metadata": {},
   "outputs": [
    {
     "output_type": "execute_result",
     "data": {
      "text/plain": "    one    two  three  four\na   NaN -100.0    6.0  test\nc  13.0  -99.0  -99.0  test\ne  12.0   13.0   10.0  test\nf  13.0   13.0    6.0  test\nh  12.0    8.0    7.0  test",
      "text/html": "<div>\n<style scoped>\n    .dataframe tbody tr th:only-of-type {\n        vertical-align: middle;\n    }\n\n    .dataframe tbody tr th {\n        vertical-align: top;\n    }\n\n    .dataframe thead th {\n        text-align: right;\n    }\n</style>\n<table border=\"1\" class=\"dataframe\">\n  <thead>\n    <tr style=\"text-align: right;\">\n      <th></th>\n      <th>one</th>\n      <th>two</th>\n      <th>three</th>\n      <th>four</th>\n    </tr>\n  </thead>\n  <tbody>\n    <tr>\n      <th>a</th>\n      <td>NaN</td>\n      <td>-100.0</td>\n      <td>6.0</td>\n      <td>test</td>\n    </tr>\n    <tr>\n      <th>c</th>\n      <td>13.0</td>\n      <td>-99.0</td>\n      <td>-99.0</td>\n      <td>test</td>\n    </tr>\n    <tr>\n      <th>e</th>\n      <td>12.0</td>\n      <td>13.0</td>\n      <td>10.0</td>\n      <td>test</td>\n    </tr>\n    <tr>\n      <th>f</th>\n      <td>13.0</td>\n      <td>13.0</td>\n      <td>6.0</td>\n      <td>test</td>\n    </tr>\n    <tr>\n      <th>h</th>\n      <td>12.0</td>\n      <td>8.0</td>\n      <td>7.0</td>\n      <td>test</td>\n    </tr>\n  </tbody>\n</table>\n</div>"
     },
     "metadata": {},
     "execution_count": 32
    }
   ],
   "source": [
    "df_change.dropna(how='all')"
   ]
  },
  {
   "cell_type": "code",
   "execution_count": 33,
   "metadata": {},
   "outputs": [
    {
     "output_type": "execute_result",
     "data": {
      "text/plain": "    one    two  three  four\na   0.0 -100.0    6.0  test\nb   0.0    0.0    0.0     0\nc  13.0  -99.0  -99.0  test\nd   0.0    0.0    0.0     0\ne  12.0   13.0   10.0  test\nf  13.0   13.0    6.0  test\ng   0.0    0.0    0.0     0\nh  12.0    8.0    7.0  test",
      "text/html": "<div>\n<style scoped>\n    .dataframe tbody tr th:only-of-type {\n        vertical-align: middle;\n    }\n\n    .dataframe tbody tr th {\n        vertical-align: top;\n    }\n\n    .dataframe thead th {\n        text-align: right;\n    }\n</style>\n<table border=\"1\" class=\"dataframe\">\n  <thead>\n    <tr style=\"text-align: right;\">\n      <th></th>\n      <th>one</th>\n      <th>two</th>\n      <th>three</th>\n      <th>four</th>\n    </tr>\n  </thead>\n  <tbody>\n    <tr>\n      <th>a</th>\n      <td>0.0</td>\n      <td>-100.0</td>\n      <td>6.0</td>\n      <td>test</td>\n    </tr>\n    <tr>\n      <th>b</th>\n      <td>0.0</td>\n      <td>0.0</td>\n      <td>0.0</td>\n      <td>0</td>\n    </tr>\n    <tr>\n      <th>c</th>\n      <td>13.0</td>\n      <td>-99.0</td>\n      <td>-99.0</td>\n      <td>test</td>\n    </tr>\n    <tr>\n      <th>d</th>\n      <td>0.0</td>\n      <td>0.0</td>\n      <td>0.0</td>\n      <td>0</td>\n    </tr>\n    <tr>\n      <th>e</th>\n      <td>12.0</td>\n      <td>13.0</td>\n      <td>10.0</td>\n      <td>test</td>\n    </tr>\n    <tr>\n      <th>f</th>\n      <td>13.0</td>\n      <td>13.0</td>\n      <td>6.0</td>\n      <td>test</td>\n    </tr>\n    <tr>\n      <th>g</th>\n      <td>0.0</td>\n      <td>0.0</td>\n      <td>0.0</td>\n      <td>0</td>\n    </tr>\n    <tr>\n      <th>h</th>\n      <td>12.0</td>\n      <td>8.0</td>\n      <td>7.0</td>\n      <td>test</td>\n    </tr>\n  </tbody>\n</table>\n</div>"
     },
     "metadata": {},
     "execution_count": 33
    }
   ],
   "source": [
    "df_change.fillna(0)"
   ]
  },
  {
   "cell_type": "code",
   "execution_count": 34,
   "metadata": {},
   "outputs": [
    {
     "output_type": "execute_result",
     "data": {
      "text/plain": "    one    two  three  four\na   NaN -100.0    6.0  test\nb   NaN    NaN    NaN   NaN\nc  13.0  -99.0  -99.0  test\ne  12.0   13.0   10.0  test\nf  13.0   13.0    6.0  test\nh  12.0    8.0    7.0  test",
      "text/html": "<div>\n<style scoped>\n    .dataframe tbody tr th:only-of-type {\n        vertical-align: middle;\n    }\n\n    .dataframe tbody tr th {\n        vertical-align: top;\n    }\n\n    .dataframe thead th {\n        text-align: right;\n    }\n</style>\n<table border=\"1\" class=\"dataframe\">\n  <thead>\n    <tr style=\"text-align: right;\">\n      <th></th>\n      <th>one</th>\n      <th>two</th>\n      <th>three</th>\n      <th>four</th>\n    </tr>\n  </thead>\n  <tbody>\n    <tr>\n      <th>a</th>\n      <td>NaN</td>\n      <td>-100.0</td>\n      <td>6.0</td>\n      <td>test</td>\n    </tr>\n    <tr>\n      <th>b</th>\n      <td>NaN</td>\n      <td>NaN</td>\n      <td>NaN</td>\n      <td>NaN</td>\n    </tr>\n    <tr>\n      <th>c</th>\n      <td>13.0</td>\n      <td>-99.0</td>\n      <td>-99.0</td>\n      <td>test</td>\n    </tr>\n    <tr>\n      <th>e</th>\n      <td>12.0</td>\n      <td>13.0</td>\n      <td>10.0</td>\n      <td>test</td>\n    </tr>\n    <tr>\n      <th>f</th>\n      <td>13.0</td>\n      <td>13.0</td>\n      <td>6.0</td>\n      <td>test</td>\n    </tr>\n    <tr>\n      <th>h</th>\n      <td>12.0</td>\n      <td>8.0</td>\n      <td>7.0</td>\n      <td>test</td>\n    </tr>\n  </tbody>\n</table>\n</div>"
     },
     "metadata": {},
     "execution_count": 34
    }
   ],
   "source": [
    "df_change.drop_duplicates()"
   ]
  }
 ]
}