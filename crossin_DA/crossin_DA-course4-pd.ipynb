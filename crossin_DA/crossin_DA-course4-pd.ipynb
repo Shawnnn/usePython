{
 "nbformat": 4,
 "nbformat_minor": 2,
 "metadata": {
  "language_info": {
   "name": "python",
   "codemirror_mode": {
    "name": "ipython",
    "version": 3
   },
   "version": "3.7.4-final"
  },
  "orig_nbformat": 2,
  "file_extension": ".py",
  "mimetype": "text/x-python",
  "name": "python",
  "npconvert_exporter": "python",
  "pygments_lexer": "ipython3",
  "version": 3,
  "kernelspec": {
   "name": "python3",
   "display_name": "Python 3"
  }
 },
 "cells": [
  {
   "cell_type": "code",
   "execution_count": null,
   "metadata": {},
   "outputs": [],
   "source": []
  },
  {
   "cell_type": "code",
   "execution_count": 6,
   "metadata": {},
   "outputs": [
    {
     "output_type": "execute_result",
     "data": {
      "text/plain": "           date       code       open       high        low      close   preclose    volume       amount  adjustflag      turn  tradestatus    pctChg     peTTM     pbMRQ     psTTM  pcfNcfTTM  isST\n0    2017-12-07  sh.600000  12.814685  12.893850  12.775103  12.824581  12.824581  34802229  451233524.0           2  0.123835            1  0.000000  7.004418  0.981842  2.310626  -2.043354     0\n1    2017-12-08  sh.600000  12.844372  12.854267  12.735521  12.794894  12.824581  31296221  404411517.0           2  0.111360            1 -0.231479  6.988205  0.979569  2.305277  -2.038624     0\n2    2017-12-11  sh.600000  12.784999  12.903745  12.715730  12.834476  12.794894  36649902  474566888.0           2  0.130409            1  0.309358  7.009823  0.982600  2.312409  -2.044930     0\n3    2017-12-12  sh.600000  12.834476  12.834476  12.606880  12.616775  12.834476  30370097  390113096.0           2  0.108064            1 -1.696224  6.890921  0.965933  2.273185  -2.010244     0\n4    2017-12-13  sh.600000  12.666253  12.676148  12.498029  12.606880  12.616775  19345338  246331123.0           2  0.068835            1 -0.078433  6.885516  0.965175  2.271402  -2.008667     0\n..          ...        ...        ...        ...        ...        ...        ...       ...          ...         ...       ...          ...       ...       ...       ...       ...        ...   ...\n240  2018-12-03  sh.600000  10.990000  11.050000  10.840000  11.020000  10.710000  43049070  472438382.0           2  0.153179            1  2.894495  5.820451  0.760281  1.899833   3.113035     0\n241  2018-12-04  sh.600000  11.000000  11.080000  10.970000  11.080000  11.020000  20811293  229713745.0           2  0.074052            1  0.544460  5.852141  0.764420  1.910177   3.129985     0\n242  2018-12-05  sh.600000  10.990000  11.100000  10.960000  11.000000  11.080000  25491217  281189602.0           2  0.090704            1 -0.722021  5.809888  0.758901  1.896385   3.107385     0\n243  2018-12-06  sh.600000  10.820000  10.930000  10.820000  10.900000  11.000000  23597997  256533148.0           2  0.083967            1 -0.909094  5.757070  0.752002  1.879146   3.079136     0\n244  2018-12-07  sh.600000  10.940000  11.030000  10.880000  10.890000  10.900000  10580550  115760323.0           2  0.037648            1 -0.091736  5.751789  0.751312  1.877422   3.076312     0\n\n[245 rows x 18 columns]",
      "text/html": "<div>\n<style scoped>\n    .dataframe tbody tr th:only-of-type {\n        vertical-align: middle;\n    }\n\n    .dataframe tbody tr th {\n        vertical-align: top;\n    }\n\n    .dataframe thead th {\n        text-align: right;\n    }\n</style>\n<table border=\"1\" class=\"dataframe\">\n  <thead>\n    <tr style=\"text-align: right;\">\n      <th></th>\n      <th>date</th>\n      <th>code</th>\n      <th>open</th>\n      <th>high</th>\n      <th>low</th>\n      <th>close</th>\n      <th>preclose</th>\n      <th>volume</th>\n      <th>amount</th>\n      <th>adjustflag</th>\n      <th>turn</th>\n      <th>tradestatus</th>\n      <th>pctChg</th>\n      <th>peTTM</th>\n      <th>pbMRQ</th>\n      <th>psTTM</th>\n      <th>pcfNcfTTM</th>\n      <th>isST</th>\n    </tr>\n  </thead>\n  <tbody>\n    <tr>\n      <th>0</th>\n      <td>2017-12-07</td>\n      <td>sh.600000</td>\n      <td>12.814685</td>\n      <td>12.893850</td>\n      <td>12.775103</td>\n      <td>12.824581</td>\n      <td>12.824581</td>\n      <td>34802229</td>\n      <td>451233524.0</td>\n      <td>2</td>\n      <td>0.123835</td>\n      <td>1</td>\n      <td>0.000000</td>\n      <td>7.004418</td>\n      <td>0.981842</td>\n      <td>2.310626</td>\n      <td>-2.043354</td>\n      <td>0</td>\n    </tr>\n    <tr>\n      <th>1</th>\n      <td>2017-12-08</td>\n      <td>sh.600000</td>\n      <td>12.844372</td>\n      <td>12.854267</td>\n      <td>12.735521</td>\n      <td>12.794894</td>\n      <td>12.824581</td>\n      <td>31296221</td>\n      <td>404411517.0</td>\n      <td>2</td>\n      <td>0.111360</td>\n      <td>1</td>\n      <td>-0.231479</td>\n      <td>6.988205</td>\n      <td>0.979569</td>\n      <td>2.305277</td>\n      <td>-2.038624</td>\n      <td>0</td>\n    </tr>\n    <tr>\n      <th>2</th>\n      <td>2017-12-11</td>\n      <td>sh.600000</td>\n      <td>12.784999</td>\n      <td>12.903745</td>\n      <td>12.715730</td>\n      <td>12.834476</td>\n      <td>12.794894</td>\n      <td>36649902</td>\n      <td>474566888.0</td>\n      <td>2</td>\n      <td>0.130409</td>\n      <td>1</td>\n      <td>0.309358</td>\n      <td>7.009823</td>\n      <td>0.982600</td>\n      <td>2.312409</td>\n      <td>-2.044930</td>\n      <td>0</td>\n    </tr>\n    <tr>\n      <th>3</th>\n      <td>2017-12-12</td>\n      <td>sh.600000</td>\n      <td>12.834476</td>\n      <td>12.834476</td>\n      <td>12.606880</td>\n      <td>12.616775</td>\n      <td>12.834476</td>\n      <td>30370097</td>\n      <td>390113096.0</td>\n      <td>2</td>\n      <td>0.108064</td>\n      <td>1</td>\n      <td>-1.696224</td>\n      <td>6.890921</td>\n      <td>0.965933</td>\n      <td>2.273185</td>\n      <td>-2.010244</td>\n      <td>0</td>\n    </tr>\n    <tr>\n      <th>4</th>\n      <td>2017-12-13</td>\n      <td>sh.600000</td>\n      <td>12.666253</td>\n      <td>12.676148</td>\n      <td>12.498029</td>\n      <td>12.606880</td>\n      <td>12.616775</td>\n      <td>19345338</td>\n      <td>246331123.0</td>\n      <td>2</td>\n      <td>0.068835</td>\n      <td>1</td>\n      <td>-0.078433</td>\n      <td>6.885516</td>\n      <td>0.965175</td>\n      <td>2.271402</td>\n      <td>-2.008667</td>\n      <td>0</td>\n    </tr>\n    <tr>\n      <th>...</th>\n      <td>...</td>\n      <td>...</td>\n      <td>...</td>\n      <td>...</td>\n      <td>...</td>\n      <td>...</td>\n      <td>...</td>\n      <td>...</td>\n      <td>...</td>\n      <td>...</td>\n      <td>...</td>\n      <td>...</td>\n      <td>...</td>\n      <td>...</td>\n      <td>...</td>\n      <td>...</td>\n      <td>...</td>\n      <td>...</td>\n    </tr>\n    <tr>\n      <th>240</th>\n      <td>2018-12-03</td>\n      <td>sh.600000</td>\n      <td>10.990000</td>\n      <td>11.050000</td>\n      <td>10.840000</td>\n      <td>11.020000</td>\n      <td>10.710000</td>\n      <td>43049070</td>\n      <td>472438382.0</td>\n      <td>2</td>\n      <td>0.153179</td>\n      <td>1</td>\n      <td>2.894495</td>\n      <td>5.820451</td>\n      <td>0.760281</td>\n      <td>1.899833</td>\n      <td>3.113035</td>\n      <td>0</td>\n    </tr>\n    <tr>\n      <th>241</th>\n      <td>2018-12-04</td>\n      <td>sh.600000</td>\n      <td>11.000000</td>\n      <td>11.080000</td>\n      <td>10.970000</td>\n      <td>11.080000</td>\n      <td>11.020000</td>\n      <td>20811293</td>\n      <td>229713745.0</td>\n      <td>2</td>\n      <td>0.074052</td>\n      <td>1</td>\n      <td>0.544460</td>\n      <td>5.852141</td>\n      <td>0.764420</td>\n      <td>1.910177</td>\n      <td>3.129985</td>\n      <td>0</td>\n    </tr>\n    <tr>\n      <th>242</th>\n      <td>2018-12-05</td>\n      <td>sh.600000</td>\n      <td>10.990000</td>\n      <td>11.100000</td>\n      <td>10.960000</td>\n      <td>11.000000</td>\n      <td>11.080000</td>\n      <td>25491217</td>\n      <td>281189602.0</td>\n      <td>2</td>\n      <td>0.090704</td>\n      <td>1</td>\n      <td>-0.722021</td>\n      <td>5.809888</td>\n      <td>0.758901</td>\n      <td>1.896385</td>\n      <td>3.107385</td>\n      <td>0</td>\n    </tr>\n    <tr>\n      <th>243</th>\n      <td>2018-12-06</td>\n      <td>sh.600000</td>\n      <td>10.820000</td>\n      <td>10.930000</td>\n      <td>10.820000</td>\n      <td>10.900000</td>\n      <td>11.000000</td>\n      <td>23597997</td>\n      <td>256533148.0</td>\n      <td>2</td>\n      <td>0.083967</td>\n      <td>1</td>\n      <td>-0.909094</td>\n      <td>5.757070</td>\n      <td>0.752002</td>\n      <td>1.879146</td>\n      <td>3.079136</td>\n      <td>0</td>\n    </tr>\n    <tr>\n      <th>244</th>\n      <td>2018-12-07</td>\n      <td>sh.600000</td>\n      <td>10.940000</td>\n      <td>11.030000</td>\n      <td>10.880000</td>\n      <td>10.890000</td>\n      <td>10.900000</td>\n      <td>10580550</td>\n      <td>115760323.0</td>\n      <td>2</td>\n      <td>0.037648</td>\n      <td>1</td>\n      <td>-0.091736</td>\n      <td>5.751789</td>\n      <td>0.751312</td>\n      <td>1.877422</td>\n      <td>3.076312</td>\n      <td>0</td>\n    </tr>\n  </tbody>\n</table>\n<p>245 rows × 18 columns</p>\n</div>"
     },
     "metadata": {},
     "execution_count": 6
    }
   ],
   "source": [
    "import numpy as np \n",
    "import pandas as pd\n",
    "\n",
    "pd.set_option('display.max_columns', 100) #set_option(), 'display.ax_columns' 'display.max_rows', 'display.width'\n",
    "pd.set_option('display.max_rows', 100)\n",
    "pd.set_option('display.width', 1000)\n",
    "df = pd.read_csv(\"./assets/sh.600000.csv\", delimiter = ',')\n",
    "df"
   ]
  },
  {
   "cell_type": "code",
   "execution_count": 3,
   "metadata": {},
   "outputs": [
    {
     "output_type": "execute_result",
     "data": {
      "text/plain": "         date       code       open       high        low      close  \\\n0  2017-12-07  sh.600000  12.814685  12.893850  12.775103  12.824581   \n1  2017-12-08  sh.600000  12.844372  12.854267  12.735521  12.794894   \n2  2017-12-11  sh.600000  12.784999  12.903745  12.715730  12.834476   \n3  2017-12-12  sh.600000  12.834476  12.834476  12.606880  12.616775   \n4  2017-12-13  sh.600000  12.666253  12.676148  12.498029  12.606880   \n\n    preclose    volume       amount  adjustflag      turn  tradestatus  \\\n0  12.824581  34802229  451233524.0           2  0.123835            1   \n1  12.824581  31296221  404411517.0           2  0.111360            1   \n2  12.794894  36649902  474566888.0           2  0.130409            1   \n3  12.834476  30370097  390113096.0           2  0.108064            1   \n4  12.616775  19345338  246331123.0           2  0.068835            1   \n\n     pctChg     peTTM     pbMRQ     psTTM  pcfNcfTTM  isST  \n0  0.000000  7.004418  0.981842  2.310626  -2.043354     0  \n1 -0.231479  6.988205  0.979569  2.305277  -2.038624     0  \n2  0.309358  7.009823  0.982600  2.312409  -2.044930     0  \n3 -1.696224  6.890921  0.965933  2.273185  -2.010244     0  \n4 -0.078433  6.885516  0.965175  2.271402  -2.008667     0  ",
      "text/html": "<div>\n<style scoped>\n    .dataframe tbody tr th:only-of-type {\n        vertical-align: middle;\n    }\n\n    .dataframe tbody tr th {\n        vertical-align: top;\n    }\n\n    .dataframe thead th {\n        text-align: right;\n    }\n</style>\n<table border=\"1\" class=\"dataframe\">\n  <thead>\n    <tr style=\"text-align: right;\">\n      <th></th>\n      <th>date</th>\n      <th>code</th>\n      <th>open</th>\n      <th>high</th>\n      <th>low</th>\n      <th>close</th>\n      <th>preclose</th>\n      <th>volume</th>\n      <th>amount</th>\n      <th>adjustflag</th>\n      <th>turn</th>\n      <th>tradestatus</th>\n      <th>pctChg</th>\n      <th>peTTM</th>\n      <th>pbMRQ</th>\n      <th>psTTM</th>\n      <th>pcfNcfTTM</th>\n      <th>isST</th>\n    </tr>\n  </thead>\n  <tbody>\n    <tr>\n      <th>0</th>\n      <td>2017-12-07</td>\n      <td>sh.600000</td>\n      <td>12.814685</td>\n      <td>12.893850</td>\n      <td>12.775103</td>\n      <td>12.824581</td>\n      <td>12.824581</td>\n      <td>34802229</td>\n      <td>451233524.0</td>\n      <td>2</td>\n      <td>0.123835</td>\n      <td>1</td>\n      <td>0.000000</td>\n      <td>7.004418</td>\n      <td>0.981842</td>\n      <td>2.310626</td>\n      <td>-2.043354</td>\n      <td>0</td>\n    </tr>\n    <tr>\n      <th>1</th>\n      <td>2017-12-08</td>\n      <td>sh.600000</td>\n      <td>12.844372</td>\n      <td>12.854267</td>\n      <td>12.735521</td>\n      <td>12.794894</td>\n      <td>12.824581</td>\n      <td>31296221</td>\n      <td>404411517.0</td>\n      <td>2</td>\n      <td>0.111360</td>\n      <td>1</td>\n      <td>-0.231479</td>\n      <td>6.988205</td>\n      <td>0.979569</td>\n      <td>2.305277</td>\n      <td>-2.038624</td>\n      <td>0</td>\n    </tr>\n    <tr>\n      <th>2</th>\n      <td>2017-12-11</td>\n      <td>sh.600000</td>\n      <td>12.784999</td>\n      <td>12.903745</td>\n      <td>12.715730</td>\n      <td>12.834476</td>\n      <td>12.794894</td>\n      <td>36649902</td>\n      <td>474566888.0</td>\n      <td>2</td>\n      <td>0.130409</td>\n      <td>1</td>\n      <td>0.309358</td>\n      <td>7.009823</td>\n      <td>0.982600</td>\n      <td>2.312409</td>\n      <td>-2.044930</td>\n      <td>0</td>\n    </tr>\n    <tr>\n      <th>3</th>\n      <td>2017-12-12</td>\n      <td>sh.600000</td>\n      <td>12.834476</td>\n      <td>12.834476</td>\n      <td>12.606880</td>\n      <td>12.616775</td>\n      <td>12.834476</td>\n      <td>30370097</td>\n      <td>390113096.0</td>\n      <td>2</td>\n      <td>0.108064</td>\n      <td>1</td>\n      <td>-1.696224</td>\n      <td>6.890921</td>\n      <td>0.965933</td>\n      <td>2.273185</td>\n      <td>-2.010244</td>\n      <td>0</td>\n    </tr>\n    <tr>\n      <th>4</th>\n      <td>2017-12-13</td>\n      <td>sh.600000</td>\n      <td>12.666253</td>\n      <td>12.676148</td>\n      <td>12.498029</td>\n      <td>12.606880</td>\n      <td>12.616775</td>\n      <td>19345338</td>\n      <td>246331123.0</td>\n      <td>2</td>\n      <td>0.068835</td>\n      <td>1</td>\n      <td>-0.078433</td>\n      <td>6.885516</td>\n      <td>0.965175</td>\n      <td>2.271402</td>\n      <td>-2.008667</td>\n      <td>0</td>\n    </tr>\n  </tbody>\n</table>\n</div>"
     },
     "metadata": {},
     "execution_count": 3
    }
   ],
   "source": [
    "df.head(5) #df.head(5)"
   ]
  },
  {
   "cell_type": "code",
   "execution_count": 4,
   "metadata": {},
   "outputs": [
    {
     "output_type": "execute_result",
     "data": {
      "text/plain": "           date       code   open   high    low  close  preclose    volume  \\\n240  2018-12-03  sh.600000  10.99  11.05  10.84  11.02     10.71  43049070   \n241  2018-12-04  sh.600000  11.00  11.08  10.97  11.08     11.02  20811293   \n242  2018-12-05  sh.600000  10.99  11.10  10.96  11.00     11.08  25491217   \n243  2018-12-06  sh.600000  10.82  10.93  10.82  10.90     11.00  23597997   \n244  2018-12-07  sh.600000  10.94  11.03  10.88  10.89     10.90  10580550   \n\n          amount  adjustflag      turn  tradestatus    pctChg     peTTM  \\\n240  472438382.0           2  0.153179            1  2.894495  5.820451   \n241  229713745.0           2  0.074052            1  0.544460  5.852141   \n242  281189602.0           2  0.090704            1 -0.722021  5.809888   \n243  256533148.0           2  0.083967            1 -0.909094  5.757070   \n244  115760323.0           2  0.037648            1 -0.091736  5.751789   \n\n        pbMRQ     psTTM  pcfNcfTTM  isST  \n240  0.760281  1.899833   3.113035     0  \n241  0.764420  1.910177   3.129985     0  \n242  0.758901  1.896385   3.107385     0  \n243  0.752002  1.879146   3.079136     0  \n244  0.751312  1.877422   3.076312     0  ",
      "text/html": "<div>\n<style scoped>\n    .dataframe tbody tr th:only-of-type {\n        vertical-align: middle;\n    }\n\n    .dataframe tbody tr th {\n        vertical-align: top;\n    }\n\n    .dataframe thead th {\n        text-align: right;\n    }\n</style>\n<table border=\"1\" class=\"dataframe\">\n  <thead>\n    <tr style=\"text-align: right;\">\n      <th></th>\n      <th>date</th>\n      <th>code</th>\n      <th>open</th>\n      <th>high</th>\n      <th>low</th>\n      <th>close</th>\n      <th>preclose</th>\n      <th>volume</th>\n      <th>amount</th>\n      <th>adjustflag</th>\n      <th>turn</th>\n      <th>tradestatus</th>\n      <th>pctChg</th>\n      <th>peTTM</th>\n      <th>pbMRQ</th>\n      <th>psTTM</th>\n      <th>pcfNcfTTM</th>\n      <th>isST</th>\n    </tr>\n  </thead>\n  <tbody>\n    <tr>\n      <th>240</th>\n      <td>2018-12-03</td>\n      <td>sh.600000</td>\n      <td>10.99</td>\n      <td>11.05</td>\n      <td>10.84</td>\n      <td>11.02</td>\n      <td>10.71</td>\n      <td>43049070</td>\n      <td>472438382.0</td>\n      <td>2</td>\n      <td>0.153179</td>\n      <td>1</td>\n      <td>2.894495</td>\n      <td>5.820451</td>\n      <td>0.760281</td>\n      <td>1.899833</td>\n      <td>3.113035</td>\n      <td>0</td>\n    </tr>\n    <tr>\n      <th>241</th>\n      <td>2018-12-04</td>\n      <td>sh.600000</td>\n      <td>11.00</td>\n      <td>11.08</td>\n      <td>10.97</td>\n      <td>11.08</td>\n      <td>11.02</td>\n      <td>20811293</td>\n      <td>229713745.0</td>\n      <td>2</td>\n      <td>0.074052</td>\n      <td>1</td>\n      <td>0.544460</td>\n      <td>5.852141</td>\n      <td>0.764420</td>\n      <td>1.910177</td>\n      <td>3.129985</td>\n      <td>0</td>\n    </tr>\n    <tr>\n      <th>242</th>\n      <td>2018-12-05</td>\n      <td>sh.600000</td>\n      <td>10.99</td>\n      <td>11.10</td>\n      <td>10.96</td>\n      <td>11.00</td>\n      <td>11.08</td>\n      <td>25491217</td>\n      <td>281189602.0</td>\n      <td>2</td>\n      <td>0.090704</td>\n      <td>1</td>\n      <td>-0.722021</td>\n      <td>5.809888</td>\n      <td>0.758901</td>\n      <td>1.896385</td>\n      <td>3.107385</td>\n      <td>0</td>\n    </tr>\n    <tr>\n      <th>243</th>\n      <td>2018-12-06</td>\n      <td>sh.600000</td>\n      <td>10.82</td>\n      <td>10.93</td>\n      <td>10.82</td>\n      <td>10.90</td>\n      <td>11.00</td>\n      <td>23597997</td>\n      <td>256533148.0</td>\n      <td>2</td>\n      <td>0.083967</td>\n      <td>1</td>\n      <td>-0.909094</td>\n      <td>5.757070</td>\n      <td>0.752002</td>\n      <td>1.879146</td>\n      <td>3.079136</td>\n      <td>0</td>\n    </tr>\n    <tr>\n      <th>244</th>\n      <td>2018-12-07</td>\n      <td>sh.600000</td>\n      <td>10.94</td>\n      <td>11.03</td>\n      <td>10.88</td>\n      <td>10.89</td>\n      <td>10.90</td>\n      <td>10580550</td>\n      <td>115760323.0</td>\n      <td>2</td>\n      <td>0.037648</td>\n      <td>1</td>\n      <td>-0.091736</td>\n      <td>5.751789</td>\n      <td>0.751312</td>\n      <td>1.877422</td>\n      <td>3.076312</td>\n      <td>0</td>\n    </tr>\n  </tbody>\n</table>\n</div>"
     },
     "metadata": {},
     "execution_count": 4
    }
   ],
   "source": [
    "df.tail(5)"
   ]
  },
  {
   "cell_type": "code",
   "execution_count": 7,
   "metadata": {},
   "outputs": [
    {
     "output_type": "stream",
     "name": "stdout",
     "text": "RangeIndex(start=0, stop=245, step=1)\n[None]\nIndex(['date', 'code', 'open', 'high', 'low', 'close', 'preclose', 'volume', 'amount', 'adjustflag', 'turn', 'tradestatus', 'pctChg', 'peTTM', 'pbMRQ', 'psTTM', 'pcfNcfTTM', 'isST'], dtype='object')\n[['2017-12-07' 'sh.600000' 12.81468545 ... 2.3106259999999996 -2.043354 0]\n ['2017-12-08' 'sh.600000' 12.84437198 ... 2.3052770000000002 -2.038624 0]\n ['2017-12-11' 'sh.600000' 12.78499892 ... 2.312409 -2.04493 0]\n ...\n ['2018-12-05' 'sh.600000' 10.99 ... 1.8963849999999998 3.107385 0]\n ['2018-12-06' 'sh.600000' 10.82 ... 1.879146 3.079136 0]\n ['2018-12-07' 'sh.600000' 10.94 ... 1.8774220000000001\n  3.0763119999999997 0]]\n"
    }
   ],
   "source": [
    "print(df.index)\n",
    "print(df.index.names)\n",
    "print(df.columns)\n",
    "print(df.values)"
   ]
  },
  {
   "cell_type": "code",
   "execution_count": 9,
   "metadata": {},
   "outputs": [
    {
     "output_type": "stream",
     "name": "stdout",
     "text": "<class 'pandas.core.frame.DataFrame'>\nRangeIndex: 245 entries, 0 to 244\nData columns (total 18 columns):\n #   Column       Non-Null Count  Dtype  \n---  ------       --------------  -----  \n 0   date         245 non-null    object \n 1   code         245 non-null    object \n 2   open         245 non-null    float64\n 3   high         245 non-null    float64\n 4   low          245 non-null    float64\n 5   close        245 non-null    float64\n 6   preclose     245 non-null    float64\n 7   volume       245 non-null    int64  \n 8   amount       245 non-null    float64\n 9   adjustflag   245 non-null    int64  \n 10  turn         245 non-null    float64\n 11  tradestatus  245 non-null    int64  \n 12  pctChg       245 non-null    float64\n 13  peTTM        245 non-null    float64\n 14  pbMRQ        245 non-null    float64\n 15  psTTM        245 non-null    float64\n 16  pcfNcfTTM    245 non-null    float64\n 17  isST         245 non-null    int64  \ndtypes: float64(12), int64(4), object(2)\nmemory usage: 34.6+ KB\nNone\n             open        high         low       close    preclose        volume        amount  adjustflag        turn  tradestatus      pctChg       peTTM       pbMRQ       psTTM   pcfNcfTTM   isST\ncount  245.000000  245.000000  245.000000  245.000000  245.000000  2.450000e+02  2.450000e+02       245.0  245.000000        245.0  245.000000  245.000000  245.000000  245.000000  245.000000  245.0\nmean    11.095712   11.189029   10.992367   11.084785   11.092682  3.582759e+07  4.270868e+08         2.0    0.127483          1.0   -0.083437    6.019194    0.822677    1.960009    8.323278    0.0\nstd      1.132764    1.144871    1.125110    1.136245    1.141595  4.524912e+07  6.108954e+08         0.0    0.161007          0.0    1.392350    0.643421    0.104405    0.200529   10.900488    0.0\nmin      9.163242    9.252302    9.074183    9.163242    9.163242  8.995716e+06  9.169444e+07         2.0    0.032009          1.0   -5.391040    5.023942    0.682401    1.644255   -2.152143    0.0\n25%     10.170000   10.270000   10.100000   10.170000   10.170000  1.755753e+07  1.882069e+08         2.0    0.062474          1.0   -0.771871    5.495953    0.735460    1.798737   -1.958214    0.0\n50%     10.815792   10.885061   10.700000   10.786106   10.786106  2.294848e+07  2.417497e+08         2.0    0.081656          1.0    0.000000    5.810628    0.774275    1.899833   10.895982    0.0\n75%     12.280328   12.349596   12.230850   12.290223   12.329805  3.148443e+07  3.724712e+08         2.0    0.112029          1.0    0.631583    6.721107    0.940932    2.161991   12.496256    0.0\nmax     13.507371   13.853714   13.220401   13.507371   13.507371  3.796536e+08  5.099364e+09         2.0    1.350900          1.0    5.193799    7.386724    1.034116    2.376102   31.326051    0.0\n"
    }
   ],
   "source": [
    "#查看字段\n",
    "print(df.info())\n",
    "#查看基本描述统计： mean, min, max, std, 25%, 50%\n",
    "print(df.describe())"
   ]
  },
  {
   "cell_type": "code",
   "execution_count": 21,
   "metadata": {},
   "outputs": [
    {
     "output_type": "stream",
     "name": "stdout",
     "text": "<class 'pandas.core.frame.DataFrame'>\n"
    }
   ],
   "source": [
    "# 索引方法\n",
    "df1 = df[:3] # s使用 [], \n",
    "print(type(df1))"
   ]
  },
  {
   "cell_type": "code",
   "execution_count": 32,
   "metadata": {},
   "outputs": [
    {
     "output_type": "execute_result",
     "data": {
      "text/plain": "         date       code       open       high        low      close   preclose    volume       amount  adjustflag      turn  tradestatus    pctChg     peTTM     pbMRQ     psTTM  pcfNcfTTM  isST\n0  2017-12-07  sh.600000  12.814685  12.893850  12.775103  12.824581  12.824581  34802229  451233524.0           2  0.123835            1  0.000000  7.004418  0.981842  2.310626  -2.043354     0\n1  2017-12-08  sh.600000  12.844372  12.854267  12.735521  12.794894  12.824581  31296221  404411517.0           2  0.111360            1 -0.231479  6.988205  0.979569  2.305277  -2.038624     0\n2  2017-12-11  sh.600000  12.784999  12.903745  12.715730  12.834476  12.794894  36649902  474566888.0           2  0.130409            1  0.309358  7.009823  0.982600  2.312409  -2.044930     0",
      "text/html": "<div>\n<style scoped>\n    .dataframe tbody tr th:only-of-type {\n        vertical-align: middle;\n    }\n\n    .dataframe tbody tr th {\n        vertical-align: top;\n    }\n\n    .dataframe thead th {\n        text-align: right;\n    }\n</style>\n<table border=\"1\" class=\"dataframe\">\n  <thead>\n    <tr style=\"text-align: right;\">\n      <th></th>\n      <th>date</th>\n      <th>code</th>\n      <th>open</th>\n      <th>high</th>\n      <th>low</th>\n      <th>close</th>\n      <th>preclose</th>\n      <th>volume</th>\n      <th>amount</th>\n      <th>adjustflag</th>\n      <th>turn</th>\n      <th>tradestatus</th>\n      <th>pctChg</th>\n      <th>peTTM</th>\n      <th>pbMRQ</th>\n      <th>psTTM</th>\n      <th>pcfNcfTTM</th>\n      <th>isST</th>\n    </tr>\n  </thead>\n  <tbody>\n    <tr>\n      <th>0</th>\n      <td>2017-12-07</td>\n      <td>sh.600000</td>\n      <td>12.814685</td>\n      <td>12.893850</td>\n      <td>12.775103</td>\n      <td>12.824581</td>\n      <td>12.824581</td>\n      <td>34802229</td>\n      <td>451233524.0</td>\n      <td>2</td>\n      <td>0.123835</td>\n      <td>1</td>\n      <td>0.000000</td>\n      <td>7.004418</td>\n      <td>0.981842</td>\n      <td>2.310626</td>\n      <td>-2.043354</td>\n      <td>0</td>\n    </tr>\n    <tr>\n      <th>1</th>\n      <td>2017-12-08</td>\n      <td>sh.600000</td>\n      <td>12.844372</td>\n      <td>12.854267</td>\n      <td>12.735521</td>\n      <td>12.794894</td>\n      <td>12.824581</td>\n      <td>31296221</td>\n      <td>404411517.0</td>\n      <td>2</td>\n      <td>0.111360</td>\n      <td>1</td>\n      <td>-0.231479</td>\n      <td>6.988205</td>\n      <td>0.979569</td>\n      <td>2.305277</td>\n      <td>-2.038624</td>\n      <td>0</td>\n    </tr>\n    <tr>\n      <th>2</th>\n      <td>2017-12-11</td>\n      <td>sh.600000</td>\n      <td>12.784999</td>\n      <td>12.903745</td>\n      <td>12.715730</td>\n      <td>12.834476</td>\n      <td>12.794894</td>\n      <td>36649902</td>\n      <td>474566888.0</td>\n      <td>2</td>\n      <td>0.130409</td>\n      <td>1</td>\n      <td>0.309358</td>\n      <td>7.009823</td>\n      <td>0.982600</td>\n      <td>2.312409</td>\n      <td>-2.044930</td>\n      <td>0</td>\n    </tr>\n  </tbody>\n</table>\n</div>"
     },
     "metadata": {},
     "execution_count": 32
    }
   ],
   "source": [
    "df.loc[:2]#包含 stop"
   ]
  },
  {
   "cell_type": "code",
   "execution_count": 16,
   "metadata": {},
   "outputs": [
    {
     "output_type": "stream",
     "name": "stdout",
     "text": "0      2017-12-07\n1      2017-12-08\n2      2017-12-11\n3      2017-12-12\n4      2017-12-13\n          ...    \n240    2018-12-03\n241    2018-12-04\n242    2018-12-05\n243    2018-12-06\n244    2018-12-07\nName: date, Length: 245, dtype: object\n"
    }
   ],
   "source": [
    "df['date']\n",
    "print(df['date'])"
   ]
  },
  {
   "cell_type": "code",
   "execution_count": 20,
   "metadata": {},
   "outputs": [
    {
     "output_type": "stream",
     "name": "stdout",
     "text": "date       open      close\n0    2017-12-07  12.814685  12.824581\n1    2017-12-08  12.844372  12.794894\n2    2017-12-11  12.784999  12.834476\n3    2017-12-12  12.834476  12.616775\n4    2017-12-13  12.666253  12.606880\n..          ...        ...        ...\n240  2018-12-03  10.990000  11.020000\n241  2018-12-04  11.000000  11.080000\n242  2018-12-05  10.990000  11.000000\n243  2018-12-06  10.820000  10.900000\n244  2018-12-07  10.940000  10.890000\n\n[245 rows x 3 columns]\n<class 'pandas.core.frame.DataFrame'>\n"
    }
   ],
   "source": [
    "df1 = df[[\"date\", \"open\", \"close\"]] #只能输入一个维度，不能用,分割； .loc和iloc只输入一个维度选取的是行，而[]选取的是列\n",
    "print(df1)\n",
    "print(type(df1))"
   ]
  },
  {
   "cell_type": "code",
   "execution_count": 23,
   "metadata": {},
   "outputs": [
    {
     "output_type": "execute_result",
     "data": {
      "text/plain": "         date       code       open       high        low      close   preclose    volume       amount  adjustflag      turn  tradestatus    pctChg     peTTM     pbMRQ     psTTM  pcfNcfTTM  isST\n0  2017-12-07  sh.600000  12.814685  12.893850  12.775103  12.824581  12.824581  34802229  451233524.0           2  0.123835            1  0.000000  7.004418  0.981842  2.310626  -2.043354     0\n1  2017-12-08  sh.600000  12.844372  12.854267  12.735521  12.794894  12.824581  31296221  404411517.0           2  0.111360            1 -0.231479  6.988205  0.979569  2.305277  -2.038624     0\n2  2017-12-11  sh.600000  12.784999  12.903745  12.715730  12.834476  12.794894  36649902  474566888.0           2  0.130409            1  0.309358  7.009823  0.982600  2.312409  -2.044930     0\n3  2017-12-12  sh.600000  12.834476  12.834476  12.606880  12.616775  12.834476  30370097  390113096.0           2  0.108064            1 -1.696224  6.890921  0.965933  2.273185  -2.010244     0\n4  2017-12-13  sh.600000  12.666253  12.676148  12.498029  12.606880  12.616775  19345338  246331123.0           2  0.068835            1 -0.078433  6.885516  0.965175  2.271402  -2.008667     0",
      "text/html": "<div>\n<style scoped>\n    .dataframe tbody tr th:only-of-type {\n        vertical-align: middle;\n    }\n\n    .dataframe tbody tr th {\n        vertical-align: top;\n    }\n\n    .dataframe thead th {\n        text-align: right;\n    }\n</style>\n<table border=\"1\" class=\"dataframe\">\n  <thead>\n    <tr style=\"text-align: right;\">\n      <th></th>\n      <th>date</th>\n      <th>code</th>\n      <th>open</th>\n      <th>high</th>\n      <th>low</th>\n      <th>close</th>\n      <th>preclose</th>\n      <th>volume</th>\n      <th>amount</th>\n      <th>adjustflag</th>\n      <th>turn</th>\n      <th>tradestatus</th>\n      <th>pctChg</th>\n      <th>peTTM</th>\n      <th>pbMRQ</th>\n      <th>psTTM</th>\n      <th>pcfNcfTTM</th>\n      <th>isST</th>\n    </tr>\n  </thead>\n  <tbody>\n    <tr>\n      <th>0</th>\n      <td>2017-12-07</td>\n      <td>sh.600000</td>\n      <td>12.814685</td>\n      <td>12.893850</td>\n      <td>12.775103</td>\n      <td>12.824581</td>\n      <td>12.824581</td>\n      <td>34802229</td>\n      <td>451233524.0</td>\n      <td>2</td>\n      <td>0.123835</td>\n      <td>1</td>\n      <td>0.000000</td>\n      <td>7.004418</td>\n      <td>0.981842</td>\n      <td>2.310626</td>\n      <td>-2.043354</td>\n      <td>0</td>\n    </tr>\n    <tr>\n      <th>1</th>\n      <td>2017-12-08</td>\n      <td>sh.600000</td>\n      <td>12.844372</td>\n      <td>12.854267</td>\n      <td>12.735521</td>\n      <td>12.794894</td>\n      <td>12.824581</td>\n      <td>31296221</td>\n      <td>404411517.0</td>\n      <td>2</td>\n      <td>0.111360</td>\n      <td>1</td>\n      <td>-0.231479</td>\n      <td>6.988205</td>\n      <td>0.979569</td>\n      <td>2.305277</td>\n      <td>-2.038624</td>\n      <td>0</td>\n    </tr>\n    <tr>\n      <th>2</th>\n      <td>2017-12-11</td>\n      <td>sh.600000</td>\n      <td>12.784999</td>\n      <td>12.903745</td>\n      <td>12.715730</td>\n      <td>12.834476</td>\n      <td>12.794894</td>\n      <td>36649902</td>\n      <td>474566888.0</td>\n      <td>2</td>\n      <td>0.130409</td>\n      <td>1</td>\n      <td>0.309358</td>\n      <td>7.009823</td>\n      <td>0.982600</td>\n      <td>2.312409</td>\n      <td>-2.044930</td>\n      <td>0</td>\n    </tr>\n    <tr>\n      <th>3</th>\n      <td>2017-12-12</td>\n      <td>sh.600000</td>\n      <td>12.834476</td>\n      <td>12.834476</td>\n      <td>12.606880</td>\n      <td>12.616775</td>\n      <td>12.834476</td>\n      <td>30370097</td>\n      <td>390113096.0</td>\n      <td>2</td>\n      <td>0.108064</td>\n      <td>1</td>\n      <td>-1.696224</td>\n      <td>6.890921</td>\n      <td>0.965933</td>\n      <td>2.273185</td>\n      <td>-2.010244</td>\n      <td>0</td>\n    </tr>\n    <tr>\n      <th>4</th>\n      <td>2017-12-13</td>\n      <td>sh.600000</td>\n      <td>12.666253</td>\n      <td>12.676148</td>\n      <td>12.498029</td>\n      <td>12.606880</td>\n      <td>12.616775</td>\n      <td>19345338</td>\n      <td>246331123.0</td>\n      <td>2</td>\n      <td>0.068835</td>\n      <td>1</td>\n      <td>-0.078433</td>\n      <td>6.885516</td>\n      <td>0.965175</td>\n      <td>2.271402</td>\n      <td>-2.008667</td>\n      <td>0</td>\n    </tr>\n  </tbody>\n</table>\n</div>"
     },
     "metadata": {},
     "execution_count": 23
    }
   ],
   "source": [
    "df[df.close > 11.08].head()"
   ]
  },
  {
   "cell_type": "code",
   "execution_count": 24,
   "metadata": {},
   "outputs": [
    {
     "output_type": "execute_result",
     "data": {
      "text/plain": "                 code       open       high        low      close   preclose    volume       amount  adjustflag      turn  tradestatus    pctChg     peTTM     pbMRQ     psTTM  pcfNcfTTM  isST\ndate                                                                                                                                                                                           \n2017-12-07  sh.600000  12.814685  12.893850  12.775103  12.824581  12.824581  34802229  451233524.0           2  0.123835            1  0.000000  7.004418  0.981842  2.310626  -2.043354     0\n2017-12-08  sh.600000  12.844372  12.854267  12.735521  12.794894  12.824581  31296221  404411517.0           2  0.111360            1 -0.231479  6.988205  0.979569  2.305277  -2.038624     0\n2017-12-11  sh.600000  12.784999  12.903745  12.715730  12.834476  12.794894  36649902  474566888.0           2  0.130409            1  0.309358  7.009823  0.982600  2.312409  -2.044930     0\n2017-12-12  sh.600000  12.834476  12.834476  12.606880  12.616775  12.834476  30370097  390113096.0           2  0.108064            1 -1.696224  6.890921  0.965933  2.273185  -2.010244     0\n2017-12-13  sh.600000  12.666253  12.676148  12.498029  12.606880  12.616775  19345338  246331123.0           2  0.068835            1 -0.078433  6.885516  0.965175  2.271402  -2.008667     0",
      "text/html": "<div>\n<style scoped>\n    .dataframe tbody tr th:only-of-type {\n        vertical-align: middle;\n    }\n\n    .dataframe tbody tr th {\n        vertical-align: top;\n    }\n\n    .dataframe thead th {\n        text-align: right;\n    }\n</style>\n<table border=\"1\" class=\"dataframe\">\n  <thead>\n    <tr style=\"text-align: right;\">\n      <th></th>\n      <th>code</th>\n      <th>open</th>\n      <th>high</th>\n      <th>low</th>\n      <th>close</th>\n      <th>preclose</th>\n      <th>volume</th>\n      <th>amount</th>\n      <th>adjustflag</th>\n      <th>turn</th>\n      <th>tradestatus</th>\n      <th>pctChg</th>\n      <th>peTTM</th>\n      <th>pbMRQ</th>\n      <th>psTTM</th>\n      <th>pcfNcfTTM</th>\n      <th>isST</th>\n    </tr>\n    <tr>\n      <th>date</th>\n      <th></th>\n      <th></th>\n      <th></th>\n      <th></th>\n      <th></th>\n      <th></th>\n      <th></th>\n      <th></th>\n      <th></th>\n      <th></th>\n      <th></th>\n      <th></th>\n      <th></th>\n      <th></th>\n      <th></th>\n      <th></th>\n      <th></th>\n    </tr>\n  </thead>\n  <tbody>\n    <tr>\n      <th>2017-12-07</th>\n      <td>sh.600000</td>\n      <td>12.814685</td>\n      <td>12.893850</td>\n      <td>12.775103</td>\n      <td>12.824581</td>\n      <td>12.824581</td>\n      <td>34802229</td>\n      <td>451233524.0</td>\n      <td>2</td>\n      <td>0.123835</td>\n      <td>1</td>\n      <td>0.000000</td>\n      <td>7.004418</td>\n      <td>0.981842</td>\n      <td>2.310626</td>\n      <td>-2.043354</td>\n      <td>0</td>\n    </tr>\n    <tr>\n      <th>2017-12-08</th>\n      <td>sh.600000</td>\n      <td>12.844372</td>\n      <td>12.854267</td>\n      <td>12.735521</td>\n      <td>12.794894</td>\n      <td>12.824581</td>\n      <td>31296221</td>\n      <td>404411517.0</td>\n      <td>2</td>\n      <td>0.111360</td>\n      <td>1</td>\n      <td>-0.231479</td>\n      <td>6.988205</td>\n      <td>0.979569</td>\n      <td>2.305277</td>\n      <td>-2.038624</td>\n      <td>0</td>\n    </tr>\n    <tr>\n      <th>2017-12-11</th>\n      <td>sh.600000</td>\n      <td>12.784999</td>\n      <td>12.903745</td>\n      <td>12.715730</td>\n      <td>12.834476</td>\n      <td>12.794894</td>\n      <td>36649902</td>\n      <td>474566888.0</td>\n      <td>2</td>\n      <td>0.130409</td>\n      <td>1</td>\n      <td>0.309358</td>\n      <td>7.009823</td>\n      <td>0.982600</td>\n      <td>2.312409</td>\n      <td>-2.044930</td>\n      <td>0</td>\n    </tr>\n    <tr>\n      <th>2017-12-12</th>\n      <td>sh.600000</td>\n      <td>12.834476</td>\n      <td>12.834476</td>\n      <td>12.606880</td>\n      <td>12.616775</td>\n      <td>12.834476</td>\n      <td>30370097</td>\n      <td>390113096.0</td>\n      <td>2</td>\n      <td>0.108064</td>\n      <td>1</td>\n      <td>-1.696224</td>\n      <td>6.890921</td>\n      <td>0.965933</td>\n      <td>2.273185</td>\n      <td>-2.010244</td>\n      <td>0</td>\n    </tr>\n    <tr>\n      <th>2017-12-13</th>\n      <td>sh.600000</td>\n      <td>12.666253</td>\n      <td>12.676148</td>\n      <td>12.498029</td>\n      <td>12.606880</td>\n      <td>12.616775</td>\n      <td>19345338</td>\n      <td>246331123.0</td>\n      <td>2</td>\n      <td>0.068835</td>\n      <td>1</td>\n      <td>-0.078433</td>\n      <td>6.885516</td>\n      <td>0.965175</td>\n      <td>2.271402</td>\n      <td>-2.008667</td>\n      <td>0</td>\n    </tr>\n  </tbody>\n</table>\n</div>"
     },
     "metadata": {},
     "execution_count": 24
    }
   ],
   "source": [
    "df1 =  df.set_index('date') #可使用drop =False 保留在原数据中\n",
    "df1.head()"
   ]
  },
  {
   "cell_type": "code",
   "execution_count": 33,
   "metadata": {},
   "outputs": [
    {
     "output_type": "execute_result",
     "data": {
      "text/plain": "                 code       open       high        low      close   preclose    volume       amount  adjustflag      turn  tradestatus    pctChg     peTTM     pbMRQ     psTTM  pcfNcfTTM  isST\ndate                                                                                                                                                                                           \n2017-12-11  sh.600000  12.784999  12.903745  12.715730  12.834476  12.794894  36649902  474566888.0           2  0.130409            1  0.309358  7.009823  0.982600  2.312409  -2.044930     0\n2017-12-12  sh.600000  12.834476  12.834476  12.606880  12.616775  12.834476  30370097  390113096.0           2  0.108064            1 -1.696224  6.890921  0.965933  2.273185  -2.010244     0\n2017-12-13  sh.600000  12.666253  12.676148  12.498029  12.606880  12.616775  19345338  246331123.0           2  0.068835            1 -0.078433  6.885516  0.965175  2.271402  -2.008667     0\n2017-12-14  sh.600000  12.656357  12.656357  12.527716  12.557402  12.606880  16141678  205219487.0           2  0.057436            1 -0.392466  6.858493  0.961387  2.262488  -2.000784     0\n2017-12-15  sh.600000  12.557402  12.596984  12.478238  12.488134  12.557402  16210108  205323767.0           2  0.057679            1 -0.551613  6.820661  0.956084  2.250008  -1.989747     0",
      "text/html": "<div>\n<style scoped>\n    .dataframe tbody tr th:only-of-type {\n        vertical-align: middle;\n    }\n\n    .dataframe tbody tr th {\n        vertical-align: top;\n    }\n\n    .dataframe thead th {\n        text-align: right;\n    }\n</style>\n<table border=\"1\" class=\"dataframe\">\n  <thead>\n    <tr style=\"text-align: right;\">\n      <th></th>\n      <th>code</th>\n      <th>open</th>\n      <th>high</th>\n      <th>low</th>\n      <th>close</th>\n      <th>preclose</th>\n      <th>volume</th>\n      <th>amount</th>\n      <th>adjustflag</th>\n      <th>turn</th>\n      <th>tradestatus</th>\n      <th>pctChg</th>\n      <th>peTTM</th>\n      <th>pbMRQ</th>\n      <th>psTTM</th>\n      <th>pcfNcfTTM</th>\n      <th>isST</th>\n    </tr>\n    <tr>\n      <th>date</th>\n      <th></th>\n      <th></th>\n      <th></th>\n      <th></th>\n      <th></th>\n      <th></th>\n      <th></th>\n      <th></th>\n      <th></th>\n      <th></th>\n      <th></th>\n      <th></th>\n      <th></th>\n      <th></th>\n      <th></th>\n      <th></th>\n      <th></th>\n    </tr>\n  </thead>\n  <tbody>\n    <tr>\n      <th>2017-12-11</th>\n      <td>sh.600000</td>\n      <td>12.784999</td>\n      <td>12.903745</td>\n      <td>12.715730</td>\n      <td>12.834476</td>\n      <td>12.794894</td>\n      <td>36649902</td>\n      <td>474566888.0</td>\n      <td>2</td>\n      <td>0.130409</td>\n      <td>1</td>\n      <td>0.309358</td>\n      <td>7.009823</td>\n      <td>0.982600</td>\n      <td>2.312409</td>\n      <td>-2.044930</td>\n      <td>0</td>\n    </tr>\n    <tr>\n      <th>2017-12-12</th>\n      <td>sh.600000</td>\n      <td>12.834476</td>\n      <td>12.834476</td>\n      <td>12.606880</td>\n      <td>12.616775</td>\n      <td>12.834476</td>\n      <td>30370097</td>\n      <td>390113096.0</td>\n      <td>2</td>\n      <td>0.108064</td>\n      <td>1</td>\n      <td>-1.696224</td>\n      <td>6.890921</td>\n      <td>0.965933</td>\n      <td>2.273185</td>\n      <td>-2.010244</td>\n      <td>0</td>\n    </tr>\n    <tr>\n      <th>2017-12-13</th>\n      <td>sh.600000</td>\n      <td>12.666253</td>\n      <td>12.676148</td>\n      <td>12.498029</td>\n      <td>12.606880</td>\n      <td>12.616775</td>\n      <td>19345338</td>\n      <td>246331123.0</td>\n      <td>2</td>\n      <td>0.068835</td>\n      <td>1</td>\n      <td>-0.078433</td>\n      <td>6.885516</td>\n      <td>0.965175</td>\n      <td>2.271402</td>\n      <td>-2.008667</td>\n      <td>0</td>\n    </tr>\n    <tr>\n      <th>2017-12-14</th>\n      <td>sh.600000</td>\n      <td>12.656357</td>\n      <td>12.656357</td>\n      <td>12.527716</td>\n      <td>12.557402</td>\n      <td>12.606880</td>\n      <td>16141678</td>\n      <td>205219487.0</td>\n      <td>2</td>\n      <td>0.057436</td>\n      <td>1</td>\n      <td>-0.392466</td>\n      <td>6.858493</td>\n      <td>0.961387</td>\n      <td>2.262488</td>\n      <td>-2.000784</td>\n      <td>0</td>\n    </tr>\n    <tr>\n      <th>2017-12-15</th>\n      <td>sh.600000</td>\n      <td>12.557402</td>\n      <td>12.596984</td>\n      <td>12.478238</td>\n      <td>12.488134</td>\n      <td>12.557402</td>\n      <td>16210108</td>\n      <td>205323767.0</td>\n      <td>2</td>\n      <td>0.057679</td>\n      <td>1</td>\n      <td>-0.551613</td>\n      <td>6.820661</td>\n      <td>0.956084</td>\n      <td>2.250008</td>\n      <td>-1.989747</td>\n      <td>0</td>\n    </tr>\n  </tbody>\n</table>\n</div>"
     },
     "metadata": {},
     "execution_count": 33
    }
   ],
   "source": [
    "df2 = df1.loc['2017-12-11':'2017-12-20']\n",
    "df2.head()"
   ]
  },
  {
   "cell_type": "code",
   "execution_count": 30,
   "metadata": {},
   "outputs": [
    {
     "output_type": "execute_result",
     "data": {
      "text/plain": "                 open       high        low      close\ndate                                                  \n2017-12-07  12.814685  12.893850  12.775103  12.824581\n2017-12-08  12.844372  12.854267  12.735521  12.794894\n2017-12-11  12.784999  12.903745  12.715730  12.834476\n2017-12-12  12.834476  12.834476  12.606880  12.616775\n2017-12-13  12.666253  12.676148  12.498029  12.606880\n...               ...        ...        ...        ...\n2018-12-03  10.990000  11.050000  10.840000  11.020000\n2018-12-04  11.000000  11.080000  10.970000  11.080000\n2018-12-05  10.990000  11.100000  10.960000  11.000000\n2018-12-06  10.820000  10.930000  10.820000  10.900000\n2018-12-07  10.940000  11.030000  10.880000  10.890000\n\n[245 rows x 4 columns]",
      "text/html": "<div>\n<style scoped>\n    .dataframe tbody tr th:only-of-type {\n        vertical-align: middle;\n    }\n\n    .dataframe tbody tr th {\n        vertical-align: top;\n    }\n\n    .dataframe thead th {\n        text-align: right;\n    }\n</style>\n<table border=\"1\" class=\"dataframe\">\n  <thead>\n    <tr style=\"text-align: right;\">\n      <th></th>\n      <th>open</th>\n      <th>high</th>\n      <th>low</th>\n      <th>close</th>\n    </tr>\n    <tr>\n      <th>date</th>\n      <th></th>\n      <th></th>\n      <th></th>\n      <th></th>\n    </tr>\n  </thead>\n  <tbody>\n    <tr>\n      <th>2017-12-07</th>\n      <td>12.814685</td>\n      <td>12.893850</td>\n      <td>12.775103</td>\n      <td>12.824581</td>\n    </tr>\n    <tr>\n      <th>2017-12-08</th>\n      <td>12.844372</td>\n      <td>12.854267</td>\n      <td>12.735521</td>\n      <td>12.794894</td>\n    </tr>\n    <tr>\n      <th>2017-12-11</th>\n      <td>12.784999</td>\n      <td>12.903745</td>\n      <td>12.715730</td>\n      <td>12.834476</td>\n    </tr>\n    <tr>\n      <th>2017-12-12</th>\n      <td>12.834476</td>\n      <td>12.834476</td>\n      <td>12.606880</td>\n      <td>12.616775</td>\n    </tr>\n    <tr>\n      <th>2017-12-13</th>\n      <td>12.666253</td>\n      <td>12.676148</td>\n      <td>12.498029</td>\n      <td>12.606880</td>\n    </tr>\n    <tr>\n      <th>...</th>\n      <td>...</td>\n      <td>...</td>\n      <td>...</td>\n      <td>...</td>\n    </tr>\n    <tr>\n      <th>2018-12-03</th>\n      <td>10.990000</td>\n      <td>11.050000</td>\n      <td>10.840000</td>\n      <td>11.020000</td>\n    </tr>\n    <tr>\n      <th>2018-12-04</th>\n      <td>11.000000</td>\n      <td>11.080000</td>\n      <td>10.970000</td>\n      <td>11.080000</td>\n    </tr>\n    <tr>\n      <th>2018-12-05</th>\n      <td>10.990000</td>\n      <td>11.100000</td>\n      <td>10.960000</td>\n      <td>11.000000</td>\n    </tr>\n    <tr>\n      <th>2018-12-06</th>\n      <td>10.820000</td>\n      <td>10.930000</td>\n      <td>10.820000</td>\n      <td>10.900000</td>\n    </tr>\n    <tr>\n      <th>2018-12-07</th>\n      <td>10.940000</td>\n      <td>11.030000</td>\n      <td>10.880000</td>\n      <td>10.890000</td>\n    </tr>\n  </tbody>\n</table>\n<p>245 rows × 4 columns</p>\n</div>"
     },
     "metadata": {},
     "execution_count": 30
    }
   ],
   "source": [
    "df1.loc[:,\"open\":\"close\"] # 如果是选取所有行，则第一个参数写 :"
   ]
  },
  {
   "cell_type": "code",
   "execution_count": 31,
   "metadata": {},
   "outputs": [
    {
     "output_type": "execute_result",
     "data": {
      "text/plain": "                open      high       low     close\ndate                                              \n2018-07-02  9.450212  9.450212  9.133556  9.192929\n2018-07-03  9.192929  9.281988  9.103869  9.252302\n2018-07-04  9.242406  9.321570  9.183033  9.212720\n2018-07-05  9.163242  9.252302  9.123660  9.163242\n2018-07-06  9.212720  9.331466  9.074183  9.272093",
      "text/html": "<div>\n<style scoped>\n    .dataframe tbody tr th:only-of-type {\n        vertical-align: middle;\n    }\n\n    .dataframe tbody tr th {\n        vertical-align: top;\n    }\n\n    .dataframe thead th {\n        text-align: right;\n    }\n</style>\n<table border=\"1\" class=\"dataframe\">\n  <thead>\n    <tr style=\"text-align: right;\">\n      <th></th>\n      <th>open</th>\n      <th>high</th>\n      <th>low</th>\n      <th>close</th>\n    </tr>\n    <tr>\n      <th>date</th>\n      <th></th>\n      <th></th>\n      <th></th>\n      <th></th>\n    </tr>\n  </thead>\n  <tbody>\n    <tr>\n      <th>2018-07-02</th>\n      <td>9.450212</td>\n      <td>9.450212</td>\n      <td>9.133556</td>\n      <td>9.192929</td>\n    </tr>\n    <tr>\n      <th>2018-07-03</th>\n      <td>9.192929</td>\n      <td>9.281988</td>\n      <td>9.103869</td>\n      <td>9.252302</td>\n    </tr>\n    <tr>\n      <th>2018-07-04</th>\n      <td>9.242406</td>\n      <td>9.321570</td>\n      <td>9.183033</td>\n      <td>9.212720</td>\n    </tr>\n    <tr>\n      <th>2018-07-05</th>\n      <td>9.163242</td>\n      <td>9.252302</td>\n      <td>9.123660</td>\n      <td>9.163242</td>\n    </tr>\n    <tr>\n      <th>2018-07-06</th>\n      <td>9.212720</td>\n      <td>9.331466</td>\n      <td>9.074183</td>\n      <td>9.272093</td>\n    </tr>\n  </tbody>\n</table>\n</div>"
     },
     "metadata": {},
     "execution_count": 31
    }
   ],
   "source": [
    "df1.loc['2018-07-01':'2018-07-08','open':'close']"
   ]
  }
 ]
}