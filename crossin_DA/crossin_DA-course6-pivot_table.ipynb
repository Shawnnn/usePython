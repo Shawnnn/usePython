{
 "cells": [
  {
   "cell_type": "code",
   "execution_count": 1,
   "metadata": {},
   "outputs": [
    {
     "output_type": "stream",
     "name": "stdout",
     "text": "id        date goods  sales\n0  1001  2019-01-01     A   3000\n1  1001  2019-01-01     B   2000\n2  1002  2019-01-01     A   3000\n3  1003  2019-01-01     B   2000\n4  1001  2019-01-02     A   3000\n"
    }
   ],
   "source": [
    "import numpy as np \n",
    "import pandas as pd \n",
    "data ={\n",
    "    'id':[\"1001\",\"1001\",\"1002\",\"1003\",\"1001\",\"1002\",\"1002\",\"1003\",\"1001\",\"1002\",\"1001\",\"1002\"],\n",
    "    'date':['2019-01-01','2019-01-01','2019-01-01','2019-01-01','2019-01-02','2019-01-02','2019-01-02','2019-01-02','2019-01-03','2019-01-03','2019-01-04','2019-01-04'],\n",
    "    'goods': list('ABABAABAABAA'),\n",
    "    'sales':[3000, 2000, 3000, 2000, 3000, 3000, 2000, 3000, 3000, 2000, 3000, 3000]\n",
    "\n",
    "}\n",
    "df = pd.DataFrame(data)\n",
    "print(df.head(5))"
   ]
  },
  {
   "cell_type": "code",
   "execution_count": 5,
   "metadata": {},
   "outputs": [
    {
     "output_type": "execute_result",
     "data": {
      "text/plain": "                 sales\nid   date             \n1001 2019-01-01   5000\n     2019-01-02   3000\n     2019-01-03   3000\n     2019-01-04   3000\n1002 2019-01-01   3000\n     2019-01-02   5000\n     2019-01-03   2000\n     2019-01-04   3000\n1003 2019-01-01   2000\n     2019-01-02   3000\nAll              32000",
      "text/html": "<div>\n<style scoped>\n    .dataframe tbody tr th:only-of-type {\n        vertical-align: middle;\n    }\n\n    .dataframe tbody tr th {\n        vertical-align: top;\n    }\n\n    .dataframe thead th {\n        text-align: right;\n    }\n</style>\n<table border=\"1\" class=\"dataframe\">\n  <thead>\n    <tr style=\"text-align: right;\">\n      <th></th>\n      <th></th>\n      <th>sales</th>\n    </tr>\n    <tr>\n      <th>id</th>\n      <th>date</th>\n      <th></th>\n    </tr>\n  </thead>\n  <tbody>\n    <tr>\n      <th rowspan=\"4\" valign=\"top\">1001</th>\n      <th>2019-01-01</th>\n      <td>5000</td>\n    </tr>\n    <tr>\n      <th>2019-01-02</th>\n      <td>3000</td>\n    </tr>\n    <tr>\n      <th>2019-01-03</th>\n      <td>3000</td>\n    </tr>\n    <tr>\n      <th>2019-01-04</th>\n      <td>3000</td>\n    </tr>\n    <tr>\n      <th rowspan=\"4\" valign=\"top\">1002</th>\n      <th>2019-01-01</th>\n      <td>3000</td>\n    </tr>\n    <tr>\n      <th>2019-01-02</th>\n      <td>5000</td>\n    </tr>\n    <tr>\n      <th>2019-01-03</th>\n      <td>2000</td>\n    </tr>\n    <tr>\n      <th>2019-01-04</th>\n      <td>3000</td>\n    </tr>\n    <tr>\n      <th rowspan=\"2\" valign=\"top\">1003</th>\n      <th>2019-01-01</th>\n      <td>2000</td>\n    </tr>\n    <tr>\n      <th>2019-01-02</th>\n      <td>3000</td>\n    </tr>\n    <tr>\n      <th>All</th>\n      <th></th>\n      <td>32000</td>\n    </tr>\n  </tbody>\n</table>\n</div>"
     },
     "metadata": {},
     "execution_count": 5
    }
   ],
   "source": [
    "table = pd.pivot_table(df, index =['id', 'date'], values = 'sales', aggfunc = np.sum, margins=True)\n",
    "table"
   ]
  },
  {
   "cell_type": "code",
   "execution_count": 12,
   "metadata": {},
   "outputs": [
    {
     "output_type": "execute_result",
     "data": {
      "text/plain": "date  2019-01-01  2019-01-02  2019-01-03  2019-01-04    All\nid                                                         \n1001      5000.0      3000.0      3000.0      3000.0  14000\n1002      3000.0      5000.0      2000.0      3000.0  13000\n1003      2000.0      3000.0         NaN         NaN   5000\nAll      10000.0     11000.0      5000.0      6000.0  32000",
      "text/html": "<div>\n<style scoped>\n    .dataframe tbody tr th:only-of-type {\n        vertical-align: middle;\n    }\n\n    .dataframe tbody tr th {\n        vertical-align: top;\n    }\n\n    .dataframe thead th {\n        text-align: right;\n    }\n</style>\n<table border=\"1\" class=\"dataframe\">\n  <thead>\n    <tr style=\"text-align: right;\">\n      <th>date</th>\n      <th>2019-01-01</th>\n      <th>2019-01-02</th>\n      <th>2019-01-03</th>\n      <th>2019-01-04</th>\n      <th>All</th>\n    </tr>\n    <tr>\n      <th>id</th>\n      <th></th>\n      <th></th>\n      <th></th>\n      <th></th>\n      <th></th>\n    </tr>\n  </thead>\n  <tbody>\n    <tr>\n      <th>1001</th>\n      <td>5000.0</td>\n      <td>3000.0</td>\n      <td>3000.0</td>\n      <td>3000.0</td>\n      <td>14000</td>\n    </tr>\n    <tr>\n      <th>1002</th>\n      <td>3000.0</td>\n      <td>5000.0</td>\n      <td>2000.0</td>\n      <td>3000.0</td>\n      <td>13000</td>\n    </tr>\n    <tr>\n      <th>1003</th>\n      <td>2000.0</td>\n      <td>3000.0</td>\n      <td>NaN</td>\n      <td>NaN</td>\n      <td>5000</td>\n    </tr>\n    <tr>\n      <th>All</th>\n      <td>10000.0</td>\n      <td>11000.0</td>\n      <td>5000.0</td>\n      <td>6000.0</td>\n      <td>32000</td>\n    </tr>\n  </tbody>\n</table>\n</div>"
     },
     "metadata": {},
     "execution_count": 12
    }
   ],
   "source": [
    "#请将上面的统计数据再增加一列，统计出每个人的销售总金额\n",
    "table1 = df.pivot_table( index=['id'], columns='date', values='sales', aggfunc=sum, margins=True)\n",
    "table1\n"
   ]
  },
  {
   "cell_type": "code",
   "execution_count": 6,
   "metadata": {},
   "outputs": [
    {
     "output_type": "stream",
     "name": "stdout",
     "text": "sex  age  smoke  height\n0    man   15   True     168\n1    man   23  False     179\n2  women   25  False     181\n3  women   17   True     166\n4    man   35   True     173\n5  women   57  False     178\n6    man   24  False     188\n7  women   31   True     190\n8  women   22  False     160\n"
    }
   ],
   "source": [
    "datum = {\n",
    "'sex':['man','man','women','women','man','women','man','women','women'],\n",
    "'age':[15,23,25, 17, 35, 57, 24, 31, 22],\n",
    "'smoke':['True','False','False','True','True','False','False','True','False'],\n",
    "'height':[168,179,181,166,173,178,188,190,160]\n",
    "\n",
    "}\n",
    "df1= pd.DataFrame(datum)\n",
    "print(df1)"
   ]
  },
  {
   "cell_type": "code",
   "execution_count": 8,
   "metadata": {},
   "outputs": [
    {
     "output_type": "execute_result",
     "data": {
      "text/plain": "         age  height\nsex                 \nman    24.25     177\nwomen  30.40     175",
      "text/html": "<div>\n<style scoped>\n    .dataframe tbody tr th:only-of-type {\n        vertical-align: middle;\n    }\n\n    .dataframe tbody tr th {\n        vertical-align: top;\n    }\n\n    .dataframe thead th {\n        text-align: right;\n    }\n</style>\n<table border=\"1\" class=\"dataframe\">\n  <thead>\n    <tr style=\"text-align: right;\">\n      <th></th>\n      <th>age</th>\n      <th>height</th>\n    </tr>\n    <tr>\n      <th>sex</th>\n      <th></th>\n      <th></th>\n    </tr>\n  </thead>\n  <tbody>\n    <tr>\n      <th>man</th>\n      <td>24.25</td>\n      <td>177</td>\n    </tr>\n    <tr>\n      <th>women</th>\n      <td>30.40</td>\n      <td>175</td>\n    </tr>\n  </tbody>\n</table>\n</div>"
     },
     "metadata": {},
     "execution_count": 8
    }
   ],
   "source": [
    "table_gender = df1.pivot_table( index = ['sex'], values=['age', 'height'], aggfunc=np.mean)\n",
    "table_gender"
   ]
  },
  {
   "cell_type": "code",
   "execution_count": 9,
   "metadata": {},
   "outputs": [
    {
     "output_type": "execute_result",
     "data": {
      "text/plain": "smoke  False  True\nsex               \nman        2     2\nwomen      3     2",
      "text/html": "<div>\n<style scoped>\n    .dataframe tbody tr th:only-of-type {\n        vertical-align: middle;\n    }\n\n    .dataframe tbody tr th {\n        vertical-align: top;\n    }\n\n    .dataframe thead th {\n        text-align: right;\n    }\n</style>\n<table border=\"1\" class=\"dataframe\">\n  <thead>\n    <tr style=\"text-align: right;\">\n      <th>smoke</th>\n      <th>False</th>\n      <th>True</th>\n    </tr>\n    <tr>\n      <th>sex</th>\n      <th></th>\n      <th></th>\n    </tr>\n  </thead>\n  <tbody>\n    <tr>\n      <th>man</th>\n      <td>2</td>\n      <td>2</td>\n    </tr>\n    <tr>\n      <th>women</th>\n      <td>3</td>\n      <td>2</td>\n    </tr>\n  </tbody>\n</table>\n</div>"
     },
     "metadata": {},
     "execution_count": 9
    }
   ],
   "source": [
    "pd.crosstab(df1.sex, df1.smoke)"
   ]
  },
  {
   "cell_type": "code",
   "execution_count": 10,
   "metadata": {},
   "outputs": [
    {
     "output_type": "execute_result",
     "data": {
      "text/plain": "smoke  False  True\nage               \n15         0     1\n17         0     1\n22         1     0\n23         1     0\n24         1     0\n25         1     0\n31         0     1\n35         0     1\n57         1     0",
      "text/html": "<div>\n<style scoped>\n    .dataframe tbody tr th:only-of-type {\n        vertical-align: middle;\n    }\n\n    .dataframe tbody tr th {\n        vertical-align: top;\n    }\n\n    .dataframe thead th {\n        text-align: right;\n    }\n</style>\n<table border=\"1\" class=\"dataframe\">\n  <thead>\n    <tr style=\"text-align: right;\">\n      <th>smoke</th>\n      <th>False</th>\n      <th>True</th>\n    </tr>\n    <tr>\n      <th>age</th>\n      <th></th>\n      <th></th>\n    </tr>\n  </thead>\n  <tbody>\n    <tr>\n      <th>15</th>\n      <td>0</td>\n      <td>1</td>\n    </tr>\n    <tr>\n      <th>17</th>\n      <td>0</td>\n      <td>1</td>\n    </tr>\n    <tr>\n      <th>22</th>\n      <td>1</td>\n      <td>0</td>\n    </tr>\n    <tr>\n      <th>23</th>\n      <td>1</td>\n      <td>0</td>\n    </tr>\n    <tr>\n      <th>24</th>\n      <td>1</td>\n      <td>0</td>\n    </tr>\n    <tr>\n      <th>25</th>\n      <td>1</td>\n      <td>0</td>\n    </tr>\n    <tr>\n      <th>31</th>\n      <td>0</td>\n      <td>1</td>\n    </tr>\n    <tr>\n      <th>35</th>\n      <td>0</td>\n      <td>1</td>\n    </tr>\n    <tr>\n      <th>57</th>\n      <td>1</td>\n      <td>0</td>\n    </tr>\n  </tbody>\n</table>\n</div>"
     },
     "metadata": {},
     "execution_count": 10
    }
   ],
   "source": [
    "pd.crosstab(df1.age, df1.smoke)"
   ]
  },
  {
   "cell_type": "code",
   "execution_count": 11,
   "metadata": {},
   "outputs": [
    {
     "output_type": "execute_result",
     "data": {
      "text/plain": "smoke      False  True\nsex                   \nman    23.500000  25.0\nwomen  34.666667  24.0",
      "text/html": "<div>\n<style scoped>\n    .dataframe tbody tr th:only-of-type {\n        vertical-align: middle;\n    }\n\n    .dataframe tbody tr th {\n        vertical-align: top;\n    }\n\n    .dataframe thead th {\n        text-align: right;\n    }\n</style>\n<table border=\"1\" class=\"dataframe\">\n  <thead>\n    <tr style=\"text-align: right;\">\n      <th>smoke</th>\n      <th>False</th>\n      <th>True</th>\n    </tr>\n    <tr>\n      <th>sex</th>\n      <th></th>\n      <th></th>\n    </tr>\n  </thead>\n  <tbody>\n    <tr>\n      <th>man</th>\n      <td>23.500000</td>\n      <td>25.0</td>\n    </tr>\n    <tr>\n      <th>women</th>\n      <td>34.666667</td>\n      <td>24.0</td>\n    </tr>\n  </tbody>\n</table>\n</div>"
     },
     "metadata": {},
     "execution_count": 11
    }
   ],
   "source": [
    "pd.crosstab(df1.sex, df1.smoke, values=df1.age, aggfunc=np.average)"
   ]
  }
 ],
 "metadata": {
  "language_info": {
   "codemirror_mode": {
    "name": "ipython",
    "version": 3
   },
   "file_extension": ".py",
   "mimetype": "text/x-python",
   "name": "python",
   "nbconvert_exporter": "python",
   "pygments_lexer": "ipython3",
   "version": "3.7.6-final"
  },
  "orig_nbformat": 2,
  "kernelspec": {
   "name": "python3",
   "display_name": "Python 3"
  }
 },
 "nbformat": 4,
 "nbformat_minor": 2
}