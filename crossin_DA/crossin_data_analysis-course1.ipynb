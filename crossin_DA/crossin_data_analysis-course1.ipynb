{
 "cells": [
  {
   "cell_type": "code",
   "execution_count": 8,
   "metadata": {},
   "outputs": [
    {
     "name": "stdout",
     "output_type": "stream",
     "text": [
      "arr1:\n",
      " [[1. 2.]\n",
      " [3. 4.]]\n"
     ]
    }
   ],
   "source": [
    "# task1 用 numpy 创建一个 2 * 2 的二维数组 ndarray，指定元素类型为 float，命名为 arr1（阅读参考文章⑤）\n",
    "import numpy as np\n",
    "arr1 = np.array([(1,2),(3,4)], dtype = np.float64)\n",
    "print('arr1:\\n',arr1)"
   ]
  },
  {
   "cell_type": "code",
   "execution_count": 14,
   "metadata": {},
   "outputs": [
    {
     "name": "stdout",
     "output_type": "stream",
     "text": [
      "arr:\n",
      "[[ 0  1  2  3  4  5]\n",
      " [ 6  7  8  9 10 11]\n",
      " [12 13 14 15 16 17]\n",
      " [18 19 20 21 22 23]\n",
      " [24 25 26 27 28 29]\n",
      " [30 31 32 33 34 35]]\n",
      "arr2:\n",
      "[[0 0 0 0 0 0]\n",
      " [0 0 0 0 0 0]\n",
      " [0 0 0 0 0 0]\n",
      " [0 0 0 0 0 0]\n",
      " [0 0 0 0 0 0]\n",
      " [0 0 0 0 0 0]]\n",
      "arr3:\n",
      "[[1 1 1 1 1 1]\n",
      " [1 1 1 1 1 1]\n",
      " [1 1 1 1 1 1]\n",
      " [1 1 1 1 1 1]\n",
      " [1 1 1 1 1 1]\n",
      " [1 1 1 1 1 1]]\n",
      "arr4:\n",
      "[[1. 0. 0. 0. 0. 0.]\n",
      " [0. 1. 0. 0. 0. 0.]\n",
      " [0. 0. 1. 0. 0. 0.]\n",
      " [0. 0. 0. 1. 0. 0.]\n",
      " [0. 0. 0. 0. 1. 0.]\n",
      " [0. 0. 0. 0. 0. 1.]]\n",
      "\n"
     ]
    }
   ],
   "source": [
    "# task2 生成元素全为 0 的 6 * 6 矩阵 arr2；元素全为 1 的 6 * 6 矩阵 arr3；以及 6 * 6 的单位矩阵 arr4（任务提示：单位矩阵对角线元素为 1，阅读参考文章⑥）\n",
    "import numpy as np\n",
    "arr = np.arange(36).reshape(6,6)\n",
    "arr2 = np.zeros_like(arr)\n",
    "arr3 = np.ones_like(arr)\n",
    "arr4 = np.eye(6)\n",
    "print(f'arr:\\n{arr}\\narr2:\\n{arr2}\\narr3:\\n{arr3}\\narr4:\\n{arr4}\\n')"
   ]
  },
  {
   "cell_type": "code",
   "execution_count": 18,
   "metadata": {},
   "outputs": [
    {
     "name": "stdout",
     "output_type": "stream",
     "text": [
      "arr5:\n",
      "[0 2 4 6 8]\n",
      "\n"
     ]
    }
   ],
   "source": [
    "#task3 运用 arange 函数生成生成 [0, 10) 区间内，步长为 2 的整数序列 arr5（阅读参考文章⑦）\n",
    "import numpy as np\n",
    "arr5 = np.arange(0,10,2)\n",
    "print(f'arr5:\\n{arr5}\\n')"
   ]
  },
  {
   "cell_type": "code",
   "execution_count": 20,
   "metadata": {},
   "outputs": [
    {
     "name": "stdout",
     "output_type": "stream",
     "text": [
      "arr6:\n",
      "[ 0.  2.  4.  6.  8. 10.]\n"
     ]
    }
   ],
   "source": [
    "#tast4 生成 0~10 间的等差数列 arr6，元素个数为 6（任务提示：等差数列函数为 linspace，阅读参考文章⑧）\n",
    "import numpy as np\n",
    "arr6 = np.linspace(0,10,6) # endpoint = True \n",
    "print(f\"arr6:\\n{arr6}\")"
   ]
  },
  {
   "cell_type": "code",
   "execution_count": 31,
   "metadata": {},
   "outputs": [
    {
     "name": "stdout",
     "output_type": "stream",
     "text": [
      "arr7:\n",
      "[74 33 87 57 65 13 23 80 92  6]\n",
      "arr7:\n",
      "[74 33 87 57 65 13 23 80  0  6]\n"
     ]
    }
   ],
   "source": [
    "#task5 创建一个长度为 10 的随机数组（每个元素都是整数）并将最大值替换为 0（任务提示：numpy 随机函数为 random，利用 argmax() 得到数组最大值的位置，然后再将此位置数字利用切片替换，阅读参考文章⑨⑩）\n",
    "# https://blog.csdn.net/jinxiaonian11/article/details/53143141\n",
    "import numpy as np\n",
    "arr7 = np.random.randint(1,100,10)\n",
    "print(f'arr7:\\n{arr7}')\n",
    "arr7[np.argmax(arr7)] = 0\n",
    "print(f'arr7:\\n{arr7}')"
   ]
  },
  {
   "cell_type": "code",
   "execution_count": 33,
   "metadata": {},
   "outputs": [
    {
     "name": "stdout",
     "output_type": "stream",
     "text": [
      "dist1:\n",
      "12.529964086141668\n",
      "dist2:\n",
      "12.529964086141668\n"
     ]
    }
   ],
   "source": [
    "#task6 计算数组 x = np.array([1,2,3,2,3,4,3,4,5,6]) 和数组 y = np.array([7,2,10,2,7,4,9,4,9,8]) 之间的欧式距离\n",
    "# 计算Python Numpy向量之间的欧氏距离 https://blog.csdn.net/qq_35531549/article/details/88913724\n",
    "import numpy as np\n",
    "x = np.array([1,2,3,2,3,4,3,4,5,6])\n",
    "y = np.array([7,2,10,2,7,4,9,4,9,8])\n",
    "dist1 = np.sqrt(np.sum(np.square(x-y)))\n",
    "dist2 = np.linalg.norm(x-y)\n",
    "print(f'dist1:\\n{dist1}')\n",
    "print(f'dist2:\\n{dist2}')"
   ]
  },
  {
   "cell_type": "code",
   "execution_count": 4,
   "metadata": {},
   "outputs": [
    {
     "name": "stdout",
     "output_type": "stream",
     "text": [
      "# conda environments:\n",
      "#\n",
      "base                  *  C:\\Users\\Shawn Yan\\anaconda3\n",
      "\n",
      "Requirement already satisfied: matplotlib in c:\\users\\shawn yan\\anaconda3\\lib\\site-packages (3.1.3)\n",
      "Requirement already satisfied: cycler>=0.10 in c:\\users\\shawn yan\\anaconda3\\lib\\site-packages (from matplotlib) (0.10.0)\n",
      "Requirement already satisfied: python-dateutil>=2.1 in c:\\users\\shawn yan\\anaconda3\\lib\\site-packages (from matplotlib) (2.8.1)\n",
      "Requirement already satisfied: pyparsing!=2.0.4,!=2.1.2,!=2.1.6,>=2.0.1 in c:\\users\\shawn yan\\anaconda3\\lib\\site-packages (from matplotlib) (2.4.6)\n",
      "Requirement already satisfied: numpy>=1.11 in c:\\users\\shawn yan\\anaconda3\\lib\\site-packages (from matplotlib) (1.18.1)\n",
      "Requirement already satisfied: kiwisolver>=1.0.1 in c:\\users\\shawn yan\\anaconda3\\lib\\site-packages (from matplotlib) (1.1.0)\n",
      "Requirement already satisfied: six in c:\\users\\shawn yan\\anaconda3\\lib\\site-packages (from cycler>=0.10->matplotlib) (1.14.0)\n",
      "Requirement already satisfied: setuptools in c:\\users\\shawn yan\\anaconda3\\lib\\site-packages (from kiwisolver>=1.0.1->matplotlib) (45.2.0.post20200210)\n"
     ]
    }
   ],
   "source": [
    "!conda info --envs\n",
    "!activate base\n",
    "!pip install matplotlib"
   ]
  },
  {
   "cell_type": "code",
   "execution_count": 5,
   "metadata": {},
   "outputs": [
    {
     "ename": "ModuleNotFoundError",
     "evalue": "No module named 'matplotlib'",
     "output_type": "error",
     "traceback": [
      "\u001b[1;31m---------------------------------------------------------------------------\u001b[0m",
      "\u001b[1;31mModuleNotFoundError\u001b[0m                       Traceback (most recent call last)",
      "\u001b[1;32m<ipython-input-5-f95d554ae3de>\u001b[0m in \u001b[0;36m<module>\u001b[1;34m\u001b[0m\n\u001b[0;32m      5\u001b[0m \u001b[1;33m\u001b[0m\u001b[0m\n\u001b[0;32m      6\u001b[0m \u001b[1;32mimport\u001b[0m \u001b[0mnumpy\u001b[0m \u001b[1;32mas\u001b[0m \u001b[0mnp\u001b[0m\u001b[1;33m\u001b[0m\u001b[1;33m\u001b[0m\u001b[0m\n\u001b[1;32m----> 7\u001b[1;33m \u001b[1;32mimport\u001b[0m \u001b[0mmatplotlib\u001b[0m\u001b[1;33m.\u001b[0m\u001b[0mpyplot\u001b[0m \u001b[1;32mas\u001b[0m \u001b[0mplt\u001b[0m\u001b[1;33m\u001b[0m\u001b[1;33m\u001b[0m\u001b[0m\n\u001b[0m\u001b[0;32m      8\u001b[0m \u001b[1;32mdef\u001b[0m \u001b[0mMaxDrawdown\u001b[0m\u001b[1;33m(\u001b[0m\u001b[0mreturn_list\u001b[0m\u001b[1;33m)\u001b[0m\u001b[1;33m:\u001b[0m\u001b[1;33m\u001b[0m\u001b[1;33m\u001b[0m\u001b[0m\n\u001b[0;32m      9\u001b[0m     \u001b[1;34m'''最大回撤率'''\u001b[0m\u001b[1;33m\u001b[0m\u001b[1;33m\u001b[0m\u001b[0m\n",
      "\u001b[1;31mModuleNotFoundError\u001b[0m: No module named 'matplotlib'"
     ]
    }
   ],
   "source": [
    "#tast8 附加题（不作为任务要求）计算 任务7 中资金价值的最大回撤\n",
    "#（提示1：最大回撤是指投资组合在选定的周期内，任一时间点往后推，可能出现资产净值下降的最大幅度。简单举例，例如某年连续开盘日 9 天，净值分别为 x=[1,0.5,5.0,2.5,4.0,3.0,2.5,1,2] 则该段时间最大回撤为（5-1），而不是最高值 5 与最低值 0.5 的差，如下图。 \n",
    "\n",
    "#提示2：最大回撤计算公式为 max_drawdown = np.max(np.maximum.accumulate(values) - values)，阅读参考文章⑫⑬）\n",
    "\n",
    "import numpy as np\n",
    "import matplotlib.pyplot as plt\n",
    "def MaxDrawdown(return_list):\n",
    "    '''最大回撤率'''\n",
    "    i = np.argmax((np.maximum.accumulate(return_list) - return_list) / np.maximum.accumulate(return_list))  # 结束位置\n",
    "    if i == 0:\n",
    "        return 0\n",
    "    j = np.argmax(return_list[:i])  # 开始位置\n",
    "    return (return_list[j] - return_list[i]) / (return_list[j])\n",
    " \n",
    "return_list=[12,12,21,15,27,16,21,22,25,20,16,17]\n",
    "print(MaxDrawdown(return_list))\n",
    "\n"
   ]
  },
  {
   "cell_type": "code",
   "execution_count": 6,
   "metadata": {},
   "outputs": [
    {
     "name": "stdout",
     "output_type": "stream",
     "text": [
      "# conda environments:\n",
      "#\n",
      "base                  *  C:\\Users\\Shawn Yan\\anaconda3\n",
      "\n"
     ]
    }
   ],
   "source": [
    "!conda info --envs"
   ]
  }
 ],
 "metadata": {
  "kernelspec": {
   "display_name": "Python 3.7.4 64-bit",
   "language": "python",
   "name": "python37464bitbc85d41336434b44b91a01621588ef29"
  },
  "language_info": {
   "codemirror_mode": {
    "name": "ipython",
    "version": 3
   },
   "file_extension": ".py",
   "mimetype": "text/x-python",
   "name": "python",
   "nbconvert_exporter": "python",
   "pygments_lexer": "ipython3",
   "version": "3.7.4"
  }
 },
 "nbformat": 4,
 "nbformat_minor": 4
}
